{
 "cells": [
  {
   "metadata": {},
   "cell_type": "markdown",
   "source": "# Feature Selection",
   "id": "6b225fa8ae02407e"
  },
  {
   "metadata": {},
   "cell_type": "markdown",
   "source": [
    "## **Exercise** \n",
    "Apply Recursive Feature Elimination (RFE) to any dataset included in scikit-learn. Use 2 other algorithms that are not the logistic regression."
   ],
   "id": "a6ffb8bddfb7007e"
  },
  {
   "metadata": {},
   "cell_type": "markdown",
   "source": [
    "## **Recursive Feature Elimination (RFE)**\n",
    "\n",
    "Given an external estimator that assigns weights to features (e.g., the coefficients of a linear model), the goal of recursive feature elimination (RFE) is to select features by recursively considering smaller and smaller sets of features. What this means is that we use a machine learning model to select the features by eliminating the least important feature after recursively training.\n",
    "\n",
    "First, the estimator is trained on the initial set of features and the importance of each feature is obtained either through any specific attribute (such as coef_, feature_importances_) or callable. Then, the least important features are pruned from current set of features. That procedure is recursively repeated on the pruned set until the desired number of features to select is eventually reached."
   ],
   "id": "f59bbbdd603ad4bd"
  },
  {
   "metadata": {},
   "cell_type": "markdown",
   "source": "Make imports",
   "id": "d626bfa0d5e6ae3a"
  },
  {
   "metadata": {
    "ExecuteTime": {
     "end_time": "2024-09-23T18:27:57.893706Z",
     "start_time": "2024-09-23T18:27:57.696436Z"
    }
   },
   "cell_type": "code",
   "source": [
    "from sklearn.datasets import fetch_california_housing\n",
    "import pandas as pd\n",
    "import numpy as np\n",
    "from sklearn.feature_selection import RFE\n",
    "from sklearn.linear_model import LinearRegression\n",
    "from sklearn.ensemble import RandomForestRegressor\n",
    "from xgboost import XGBRegressor\n",
    "\n"
   ],
   "id": "adf5affcb809ea7e",
   "outputs": [],
   "execution_count": 10
  },
  {
   "metadata": {},
   "cell_type": "markdown",
   "source": "Load the dataset",
   "id": "6164a6a13ce199ac"
  },
  {
   "cell_type": "code",
   "id": "initial_id",
   "metadata": {
    "collapsed": true,
    "ExecuteTime": {
     "end_time": "2024-09-23T18:24:58.534683Z",
     "start_time": "2024-09-23T18:24:58.526500Z"
    }
   },
   "source": [
    "housing = fetch_california_housing()\n",
    "X = pd.DataFrame(housing.data, columns=housing.feature_names)\n",
    "y = pd.Series(housing.target, name='target')"
   ],
   "outputs": [],
   "execution_count": 6
  },
  {
   "metadata": {},
   "cell_type": "markdown",
   "source": "First, let's use the Linear Regression model",
   "id": "5609d6e4b44f6b5f"
  },
  {
   "metadata": {
    "ExecuteTime": {
     "end_time": "2024-09-23T18:25:00.311412Z",
     "start_time": "2024-09-23T18:25:00.249155Z"
    }
   },
   "cell_type": "code",
   "source": [
    "rfe_selector = RFE(estimator=LinearRegression(),n_features_to_select = 2, step = 1)\n",
    "rfe_selector.fit(X, y)\n",
    "X.columns[rfe_selector.get_support()]"
   ],
   "id": "7d0c9f9a84f25051",
   "outputs": [
    {
     "data": {
      "text/plain": [
       "Index(['Latitude', 'Longitude'], dtype='object')"
      ]
     },
     "execution_count": 7,
     "metadata": {},
     "output_type": "execute_result"
    }
   ],
   "execution_count": 7
  },
  {
   "metadata": {},
   "cell_type": "markdown",
   "source": "Now, let's use the Random Forest Regressor",
   "id": "d33de91e508c5e71"
  },
  {
   "metadata": {
    "ExecuteTime": {
     "end_time": "2024-09-23T18:26:01.603027Z",
     "start_time": "2024-09-23T18:25:19.295765Z"
    }
   },
   "cell_type": "code",
   "source": [
    "rfe_selector = RFE(estimator=RandomForestRegressor(),n_features_to_select = 2, step = 1)\n",
    "rfe_selector.fit(X, y)\n",
    "X.columns[rfe_selector.get_support()]"
   ],
   "id": "fdf4a0f083265f8b",
   "outputs": [
    {
     "data": {
      "text/plain": [
       "Index(['MedInc', 'AveOccup'], dtype='object')"
      ]
     },
     "execution_count": 8,
     "metadata": {},
     "output_type": "execute_result"
    }
   ],
   "execution_count": 8
  },
  {
   "metadata": {},
   "cell_type": "markdown",
   "source": "Finally, let's use XGBRegressor",
   "id": "9885863be28374a1"
  },
  {
   "metadata": {
    "ExecuteTime": {
     "end_time": "2024-09-23T18:28:07.998376Z",
     "start_time": "2024-09-23T18:28:07.451076Z"
    }
   },
   "cell_type": "code",
   "source": [
    "rfe_selector = RFE(estimator=XGBRegressor(),n_features_to_select = 2, step = 1)\n",
    "rfe_selector.fit(X, y)\n",
    "X.columns[rfe_selector.get_support()]"
   ],
   "id": "bb1a7f9e63870d81",
   "outputs": [
    {
     "data": {
      "text/plain": [
       "Index(['MedInc', 'AveOccup'], dtype='object')"
      ]
     },
     "execution_count": 11,
     "metadata": {},
     "output_type": "execute_result"
    }
   ],
   "execution_count": 11
  }
 ],
 "metadata": {
  "kernelspec": {
   "display_name": "Python 3",
   "language": "python",
   "name": "python3"
  },
  "language_info": {
   "codemirror_mode": {
    "name": "ipython",
    "version": 2
   },
   "file_extension": ".py",
   "mimetype": "text/x-python",
   "name": "python",
   "nbconvert_exporter": "python",
   "pygments_lexer": "ipython2",
   "version": "2.7.6"
  }
 },
 "nbformat": 4,
 "nbformat_minor": 5
}
