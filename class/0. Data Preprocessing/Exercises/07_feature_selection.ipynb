{
 "cells": [
  {
   "metadata": {},
   "cell_type": "markdown",
   "source": "# Feature Selection",
   "id": "6b225fa8ae02407e"
  },
  {
   "metadata": {},
   "cell_type": "markdown",
   "source": [
    "## **Exercise** \n",
    "\n",
    "Apply SelectKBest to any dataset included in scikit-learn. Use at least 3 diffirent statistical tests."
   ],
   "id": "a6ffb8bddfb7007e"
  },
  {
   "metadata": {},
   "cell_type": "markdown",
   "source": [
    "## **Univariate Feature Selection with SelectKBest**\n",
    "\n",
    "Univariate feature selection works by selecting the best features based on univariate statistical tests. We can use different tests to do so: chi2, Pearson-correlation, etc...\n",
    "\n",
    "Let's start loading the dataset:"
   ],
   "id": "f59bbbdd603ad4bd"
  },
  {
   "metadata": {},
   "cell_type": "markdown",
   "source": "Make imports",
   "id": "d626bfa0d5e6ae3a"
  },
  {
   "metadata": {
    "ExecuteTime": {
     "end_time": "2024-09-23T18:07:41.368464Z",
     "start_time": "2024-09-23T18:07:41.363962Z"
    }
   },
   "cell_type": "code",
   "source": [
    "from sklearn.datasets import fetch_california_housing\n",
    "import pandas as pd\n",
    "import numpy as np\n",
    "from sklearn.datasets import fetch_california_housing\n",
    "from sklearn.feature_selection import SelectKBest\n",
    "from sklearn.feature_selection import mutual_info_regression\n",
    "from sklearn.feature_selection import f_regression\n",
    "from sklearn.feature_selection import SelectPercentile"
   ],
   "id": "adf5affcb809ea7e",
   "outputs": [],
   "execution_count": 16
  },
  {
   "metadata": {},
   "cell_type": "markdown",
   "source": "Load the dataset",
   "id": "6164a6a13ce199ac"
  },
  {
   "cell_type": "code",
   "id": "initial_id",
   "metadata": {
    "collapsed": true,
    "ExecuteTime": {
     "end_time": "2024-09-23T18:00:38.724299Z",
     "start_time": "2024-09-23T18:00:38.715403Z"
    }
   },
   "source": [
    "housing = fetch_california_housing()\n",
    "X = pd.DataFrame(housing.data, columns=housing.feature_names)\n",
    "y = pd.Series(housing.target, name='target')"
   ],
   "outputs": [],
   "execution_count": 12
  },
  {
   "metadata": {},
   "cell_type": "markdown",
   "source": "Firstly, we will use the mutual information regression test",
   "id": "100ed31ea9e1393c"
  },
  {
   "metadata": {
    "ExecuteTime": {
     "end_time": "2024-09-23T17:59:40.048220Z",
     "start_time": "2024-09-23T17:59:39.496463Z"
    }
   },
   "cell_type": "code",
   "source": [
    "selector = SelectKBest(mutual_info_regression, k=2)\n",
    "selector.fit(X, y)\n",
    "X.columns[selector.get_support()]"
   ],
   "id": "46ae22401495ea97",
   "outputs": [
    {
     "data": {
      "text/plain": [
       "Index(['MedInc', 'Longitude'], dtype='object')"
      ]
     },
     "execution_count": 9,
     "metadata": {},
     "output_type": "execute_result"
    }
   ],
   "execution_count": 9
  },
  {
   "metadata": {},
   "cell_type": "markdown",
   "source": "Secondly, we will use the f_regression test",
   "id": "eb8e90b5f8bb2480"
  },
  {
   "metadata": {
    "ExecuteTime": {
     "end_time": "2024-09-23T18:06:13.299516Z",
     "start_time": "2024-09-23T18:06:13.289425Z"
    }
   },
   "cell_type": "code",
   "source": [
    "selector = SelectKBest(f_regression, k=2)\n",
    "selector.fit(X, y)\n",
    "X.columns[selector.get_support()]"
   ],
   "id": "8cc0d74c4ffb8696",
   "outputs": [
    {
     "data": {
      "text/plain": [
       "Index(['MedInc', 'AveRooms'], dtype='object')"
      ]
     },
     "execution_count": 15,
     "metadata": {},
     "output_type": "execute_result"
    }
   ],
   "execution_count": 15
  },
  {
   "metadata": {},
   "cell_type": "markdown",
   "source": "We cannot use any other test with the SelectKBest method, because for continuous target variables we can only use the **mutual_info_regression** test and the **f_regression** test as we can see in sklearn documentation (https://scikit-learn.org/stable/modules/generated/sklearn.feature_selection.SelectKBest.html#sklearn.feature_selection.SelectKBest).",
   "id": "8048a018b5d96d9e"
  }
 ],
 "metadata": {
  "kernelspec": {
   "display_name": "Python 3",
   "language": "python",
   "name": "python3"
  },
  "language_info": {
   "codemirror_mode": {
    "name": "ipython",
    "version": 2
   },
   "file_extension": ".py",
   "mimetype": "text/x-python",
   "name": "python",
   "nbconvert_exporter": "python",
   "pygments_lexer": "ipython2",
   "version": "2.7.6"
  }
 },
 "nbformat": 4,
 "nbformat_minor": 5
}
