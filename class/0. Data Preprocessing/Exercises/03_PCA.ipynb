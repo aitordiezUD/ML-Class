{
 "cells": [
  {
   "metadata": {},
   "cell_type": "markdown",
   "source": "### PCA",
   "id": "32f960aa43acc939"
  },
  {
   "metadata": {},
   "cell_type": "markdown",
   "source": "Same as 02_PCA.ipynb but using normalization instead of standardization.",
   "id": "470f76e879ab4064"
  },
  {
   "metadata": {},
   "cell_type": "markdown",
   "source": "## Imports",
   "id": "54ebe66d7326fe66"
  },
  {
   "cell_type": "code",
   "id": "initial_id",
   "metadata": {
    "collapsed": true,
    "ExecuteTime": {
     "end_time": "2024-09-22T12:06:30.483045Z",
     "start_time": "2024-09-22T12:06:28.764133Z"
    }
   },
   "source": [
    "import pandas as pd\n",
    "from sklearn.datasets import load_wine\n",
    "import matplotlib.pyplot as plt\n",
    "from sklearn.decomposition import PCA\n",
    "from sklearn.preprocessing import Normalizer\n",
    "%matplotlib inline"
   ],
   "outputs": [],
   "execution_count": 1
  },
  {
   "metadata": {},
   "cell_type": "markdown",
   "source": "## Load the data",
   "id": "fd19fe60dd97abd0"
  },
  {
   "metadata": {
    "ExecuteTime": {
     "end_time": "2024-09-22T12:06:32.049696Z",
     "start_time": "2024-09-22T12:06:32.012915Z"
    }
   },
   "cell_type": "code",
   "source": [
    "wine = load_wine()\n",
    "df = pd.DataFrame(data=wine.data, columns=wine.feature_names)\n",
    "df['target'] = wine.target.astype(str)\n",
    "df['target'] = \"class_\"  +  df['target']\n",
    "df.head()"
   ],
   "id": "e28ed2944c8684ab",
   "outputs": [
    {
     "data": {
      "text/plain": [
       "   alcohol  malic_acid   ash  alcalinity_of_ash  magnesium  total_phenols  \\\n",
       "0    14.23        1.71  2.43               15.6      127.0           2.80   \n",
       "1    13.20        1.78  2.14               11.2      100.0           2.65   \n",
       "2    13.16        2.36  2.67               18.6      101.0           2.80   \n",
       "3    14.37        1.95  2.50               16.8      113.0           3.85   \n",
       "4    13.24        2.59  2.87               21.0      118.0           2.80   \n",
       "\n",
       "   flavanoids  nonflavanoid_phenols  proanthocyanins  color_intensity   hue  \\\n",
       "0        3.06                  0.28             2.29             5.64  1.04   \n",
       "1        2.76                  0.26             1.28             4.38  1.05   \n",
       "2        3.24                  0.30             2.81             5.68  1.03   \n",
       "3        3.49                  0.24             2.18             7.80  0.86   \n",
       "4        2.69                  0.39             1.82             4.32  1.04   \n",
       "\n",
       "   od280/od315_of_diluted_wines  proline   target  \n",
       "0                          3.92   1065.0  class_0  \n",
       "1                          3.40   1050.0  class_0  \n",
       "2                          3.17   1185.0  class_0  \n",
       "3                          3.45   1480.0  class_0  \n",
       "4                          2.93    735.0  class_0  "
      ],
      "text/html": [
       "<div>\n",
       "<style scoped>\n",
       "    .dataframe tbody tr th:only-of-type {\n",
       "        vertical-align: middle;\n",
       "    }\n",
       "\n",
       "    .dataframe tbody tr th {\n",
       "        vertical-align: top;\n",
       "    }\n",
       "\n",
       "    .dataframe thead th {\n",
       "        text-align: right;\n",
       "    }\n",
       "</style>\n",
       "<table border=\"1\" class=\"dataframe\">\n",
       "  <thead>\n",
       "    <tr style=\"text-align: right;\">\n",
       "      <th></th>\n",
       "      <th>alcohol</th>\n",
       "      <th>malic_acid</th>\n",
       "      <th>ash</th>\n",
       "      <th>alcalinity_of_ash</th>\n",
       "      <th>magnesium</th>\n",
       "      <th>total_phenols</th>\n",
       "      <th>flavanoids</th>\n",
       "      <th>nonflavanoid_phenols</th>\n",
       "      <th>proanthocyanins</th>\n",
       "      <th>color_intensity</th>\n",
       "      <th>hue</th>\n",
       "      <th>od280/od315_of_diluted_wines</th>\n",
       "      <th>proline</th>\n",
       "      <th>target</th>\n",
       "    </tr>\n",
       "  </thead>\n",
       "  <tbody>\n",
       "    <tr>\n",
       "      <th>0</th>\n",
       "      <td>14.23</td>\n",
       "      <td>1.71</td>\n",
       "      <td>2.43</td>\n",
       "      <td>15.6</td>\n",
       "      <td>127.0</td>\n",
       "      <td>2.80</td>\n",
       "      <td>3.06</td>\n",
       "      <td>0.28</td>\n",
       "      <td>2.29</td>\n",
       "      <td>5.64</td>\n",
       "      <td>1.04</td>\n",
       "      <td>3.92</td>\n",
       "      <td>1065.0</td>\n",
       "      <td>class_0</td>\n",
       "    </tr>\n",
       "    <tr>\n",
       "      <th>1</th>\n",
       "      <td>13.20</td>\n",
       "      <td>1.78</td>\n",
       "      <td>2.14</td>\n",
       "      <td>11.2</td>\n",
       "      <td>100.0</td>\n",
       "      <td>2.65</td>\n",
       "      <td>2.76</td>\n",
       "      <td>0.26</td>\n",
       "      <td>1.28</td>\n",
       "      <td>4.38</td>\n",
       "      <td>1.05</td>\n",
       "      <td>3.40</td>\n",
       "      <td>1050.0</td>\n",
       "      <td>class_0</td>\n",
       "    </tr>\n",
       "    <tr>\n",
       "      <th>2</th>\n",
       "      <td>13.16</td>\n",
       "      <td>2.36</td>\n",
       "      <td>2.67</td>\n",
       "      <td>18.6</td>\n",
       "      <td>101.0</td>\n",
       "      <td>2.80</td>\n",
       "      <td>3.24</td>\n",
       "      <td>0.30</td>\n",
       "      <td>2.81</td>\n",
       "      <td>5.68</td>\n",
       "      <td>1.03</td>\n",
       "      <td>3.17</td>\n",
       "      <td>1185.0</td>\n",
       "      <td>class_0</td>\n",
       "    </tr>\n",
       "    <tr>\n",
       "      <th>3</th>\n",
       "      <td>14.37</td>\n",
       "      <td>1.95</td>\n",
       "      <td>2.50</td>\n",
       "      <td>16.8</td>\n",
       "      <td>113.0</td>\n",
       "      <td>3.85</td>\n",
       "      <td>3.49</td>\n",
       "      <td>0.24</td>\n",
       "      <td>2.18</td>\n",
       "      <td>7.80</td>\n",
       "      <td>0.86</td>\n",
       "      <td>3.45</td>\n",
       "      <td>1480.0</td>\n",
       "      <td>class_0</td>\n",
       "    </tr>\n",
       "    <tr>\n",
       "      <th>4</th>\n",
       "      <td>13.24</td>\n",
       "      <td>2.59</td>\n",
       "      <td>2.87</td>\n",
       "      <td>21.0</td>\n",
       "      <td>118.0</td>\n",
       "      <td>2.80</td>\n",
       "      <td>2.69</td>\n",
       "      <td>0.39</td>\n",
       "      <td>1.82</td>\n",
       "      <td>4.32</td>\n",
       "      <td>1.04</td>\n",
       "      <td>2.93</td>\n",
       "      <td>735.0</td>\n",
       "      <td>class_0</td>\n",
       "    </tr>\n",
       "  </tbody>\n",
       "</table>\n",
       "</div>"
      ]
     },
     "execution_count": 2,
     "metadata": {},
     "output_type": "execute_result"
    }
   ],
   "execution_count": 2
  },
  {
   "metadata": {},
   "cell_type": "markdown",
   "source": "## Preparing PCA and standarizing data",
   "id": "c5bee2c8bcbc1ddb"
  },
  {
   "metadata": {
    "ExecuteTime": {
     "end_time": "2024-09-22T12:06:40.002689Z",
     "start_time": "2024-09-22T12:06:39.985208Z"
    }
   },
   "cell_type": "code",
   "source": [
    "features = ['alcohol', 'malic_acid', 'ash', 'alcalinity_of_ash', 'magnesium',\n",
    "       'total_phenols', 'flavanoids', 'nonflavanoid_phenols',\n",
    "       'proanthocyanins', 'color_intensity', 'hue',\n",
    "       'od280/od315_of_diluted_wines', 'proline']\n",
    "x = df.loc[:, features].values\n",
    "x = Normalizer().fit_transform(x)\n",
    "y = df.loc[:,['target']].values\n",
    "pd.DataFrame(data = x, columns = features).head()"
   ],
   "id": "fd9c64c80b4eb3d5",
   "outputs": [
    {
     "data": {
      "text/plain": [
       "    alcohol  malic_acid       ash  alcalinity_of_ash  magnesium  \\\n",
       "0  0.013264    0.001594  0.002265           0.014542   0.118383   \n",
       "1  0.012513    0.001687  0.002029           0.010617   0.094794   \n",
       "2  0.011063    0.001984  0.002245           0.015636   0.084906   \n",
       "3  0.009680    0.001314  0.001684           0.011317   0.076119   \n",
       "4  0.017775    0.003477  0.003853           0.028193   0.158418   \n",
       "\n",
       "   total_phenols  flavanoids  nonflavanoid_phenols  proanthocyanins  \\\n",
       "0       0.002610    0.002852              0.000261         0.002135   \n",
       "1       0.002512    0.002616              0.000246         0.001213   \n",
       "2       0.002354    0.002724              0.000252         0.002362   \n",
       "3       0.002593    0.002351              0.000162         0.001468   \n",
       "4       0.003759    0.003611              0.000524         0.002443   \n",
       "\n",
       "   color_intensity       hue  od280/od315_of_diluted_wines   proline  \n",
       "0         0.005257  0.000969                      0.003654  0.992738  \n",
       "1         0.004152  0.000995                      0.003223  0.995336  \n",
       "2         0.004775  0.000866                      0.002665  0.996176  \n",
       "3         0.005254  0.000579                      0.002324  0.996961  \n",
       "4         0.005800  0.001396                      0.003934  0.986753  "
      ],
      "text/html": [
       "<div>\n",
       "<style scoped>\n",
       "    .dataframe tbody tr th:only-of-type {\n",
       "        vertical-align: middle;\n",
       "    }\n",
       "\n",
       "    .dataframe tbody tr th {\n",
       "        vertical-align: top;\n",
       "    }\n",
       "\n",
       "    .dataframe thead th {\n",
       "        text-align: right;\n",
       "    }\n",
       "</style>\n",
       "<table border=\"1\" class=\"dataframe\">\n",
       "  <thead>\n",
       "    <tr style=\"text-align: right;\">\n",
       "      <th></th>\n",
       "      <th>alcohol</th>\n",
       "      <th>malic_acid</th>\n",
       "      <th>ash</th>\n",
       "      <th>alcalinity_of_ash</th>\n",
       "      <th>magnesium</th>\n",
       "      <th>total_phenols</th>\n",
       "      <th>flavanoids</th>\n",
       "      <th>nonflavanoid_phenols</th>\n",
       "      <th>proanthocyanins</th>\n",
       "      <th>color_intensity</th>\n",
       "      <th>hue</th>\n",
       "      <th>od280/od315_of_diluted_wines</th>\n",
       "      <th>proline</th>\n",
       "    </tr>\n",
       "  </thead>\n",
       "  <tbody>\n",
       "    <tr>\n",
       "      <th>0</th>\n",
       "      <td>0.013264</td>\n",
       "      <td>0.001594</td>\n",
       "      <td>0.002265</td>\n",
       "      <td>0.014542</td>\n",
       "      <td>0.118383</td>\n",
       "      <td>0.002610</td>\n",
       "      <td>0.002852</td>\n",
       "      <td>0.000261</td>\n",
       "      <td>0.002135</td>\n",
       "      <td>0.005257</td>\n",
       "      <td>0.000969</td>\n",
       "      <td>0.003654</td>\n",
       "      <td>0.992738</td>\n",
       "    </tr>\n",
       "    <tr>\n",
       "      <th>1</th>\n",
       "      <td>0.012513</td>\n",
       "      <td>0.001687</td>\n",
       "      <td>0.002029</td>\n",
       "      <td>0.010617</td>\n",
       "      <td>0.094794</td>\n",
       "      <td>0.002512</td>\n",
       "      <td>0.002616</td>\n",
       "      <td>0.000246</td>\n",
       "      <td>0.001213</td>\n",
       "      <td>0.004152</td>\n",
       "      <td>0.000995</td>\n",
       "      <td>0.003223</td>\n",
       "      <td>0.995336</td>\n",
       "    </tr>\n",
       "    <tr>\n",
       "      <th>2</th>\n",
       "      <td>0.011063</td>\n",
       "      <td>0.001984</td>\n",
       "      <td>0.002245</td>\n",
       "      <td>0.015636</td>\n",
       "      <td>0.084906</td>\n",
       "      <td>0.002354</td>\n",
       "      <td>0.002724</td>\n",
       "      <td>0.000252</td>\n",
       "      <td>0.002362</td>\n",
       "      <td>0.004775</td>\n",
       "      <td>0.000866</td>\n",
       "      <td>0.002665</td>\n",
       "      <td>0.996176</td>\n",
       "    </tr>\n",
       "    <tr>\n",
       "      <th>3</th>\n",
       "      <td>0.009680</td>\n",
       "      <td>0.001314</td>\n",
       "      <td>0.001684</td>\n",
       "      <td>0.011317</td>\n",
       "      <td>0.076119</td>\n",
       "      <td>0.002593</td>\n",
       "      <td>0.002351</td>\n",
       "      <td>0.000162</td>\n",
       "      <td>0.001468</td>\n",
       "      <td>0.005254</td>\n",
       "      <td>0.000579</td>\n",
       "      <td>0.002324</td>\n",
       "      <td>0.996961</td>\n",
       "    </tr>\n",
       "    <tr>\n",
       "      <th>4</th>\n",
       "      <td>0.017775</td>\n",
       "      <td>0.003477</td>\n",
       "      <td>0.003853</td>\n",
       "      <td>0.028193</td>\n",
       "      <td>0.158418</td>\n",
       "      <td>0.003759</td>\n",
       "      <td>0.003611</td>\n",
       "      <td>0.000524</td>\n",
       "      <td>0.002443</td>\n",
       "      <td>0.005800</td>\n",
       "      <td>0.001396</td>\n",
       "      <td>0.003934</td>\n",
       "      <td>0.986753</td>\n",
       "    </tr>\n",
       "  </tbody>\n",
       "</table>\n",
       "</div>"
      ]
     },
     "execution_count": 3,
     "metadata": {},
     "output_type": "execute_result"
    }
   ],
   "execution_count": 3
  },
  {
   "metadata": {},
   "cell_type": "markdown",
   "source": "",
   "id": "7b41c9983ddf7dbb"
  },
  {
   "metadata": {},
   "cell_type": "markdown",
   "source": "## Using PCA\n",
   "id": "dae982f13e679ce3"
  },
  {
   "metadata": {
    "ExecuteTime": {
     "end_time": "2024-09-22T12:06:43.456974Z",
     "start_time": "2024-09-22T12:06:43.429986Z"
    }
   },
   "cell_type": "code",
   "source": [
    "pca = PCA(n_components=2)\n",
    "principalComponents = pca.fit_transform(x)\n",
    "principalDf = pd.DataFrame(data = principalComponents, columns = ['principal component 1', 'principal component 2'])\n",
    "principalDf.head(5)"
   ],
   "id": "ee8b7ed4f25c3a12",
   "outputs": [
    {
     "data": {
      "text/plain": [
       "   principal component 1  principal component 2\n",
       "0              -0.037425              -0.008566\n",
       "1              -0.061292              -0.006263\n",
       "2              -0.069781               0.000652\n",
       "3              -0.079461              -0.001433\n",
       "4               0.005421              -0.005151"
      ],
      "text/html": [
       "<div>\n",
       "<style scoped>\n",
       "    .dataframe tbody tr th:only-of-type {\n",
       "        vertical-align: middle;\n",
       "    }\n",
       "\n",
       "    .dataframe tbody tr th {\n",
       "        vertical-align: top;\n",
       "    }\n",
       "\n",
       "    .dataframe thead th {\n",
       "        text-align: right;\n",
       "    }\n",
       "</style>\n",
       "<table border=\"1\" class=\"dataframe\">\n",
       "  <thead>\n",
       "    <tr style=\"text-align: right;\">\n",
       "      <th></th>\n",
       "      <th>principal component 1</th>\n",
       "      <th>principal component 2</th>\n",
       "    </tr>\n",
       "  </thead>\n",
       "  <tbody>\n",
       "    <tr>\n",
       "      <th>0</th>\n",
       "      <td>-0.037425</td>\n",
       "      <td>-0.008566</td>\n",
       "    </tr>\n",
       "    <tr>\n",
       "      <th>1</th>\n",
       "      <td>-0.061292</td>\n",
       "      <td>-0.006263</td>\n",
       "    </tr>\n",
       "    <tr>\n",
       "      <th>2</th>\n",
       "      <td>-0.069781</td>\n",
       "      <td>0.000652</td>\n",
       "    </tr>\n",
       "    <tr>\n",
       "      <th>3</th>\n",
       "      <td>-0.079461</td>\n",
       "      <td>-0.001433</td>\n",
       "    </tr>\n",
       "    <tr>\n",
       "      <th>4</th>\n",
       "      <td>0.005421</td>\n",
       "      <td>-0.005151</td>\n",
       "    </tr>\n",
       "  </tbody>\n",
       "</table>\n",
       "</div>"
      ]
     },
     "execution_count": 4,
     "metadata": {},
     "output_type": "execute_result"
    }
   ],
   "execution_count": 4
  },
  {
   "metadata": {},
   "cell_type": "markdown",
   "source": "Adding the target to the finalDf\n",
   "id": "cc875d4da7c1f282"
  },
  {
   "metadata": {
    "ExecuteTime": {
     "end_time": "2024-09-22T12:06:45.387569Z",
     "start_time": "2024-09-22T12:06:45.375320Z"
    }
   },
   "cell_type": "code",
   "source": [
    "finalDf = pd.concat([principalDf, df[['target']]], axis = 1)\n",
    "finalDf.head(5)"
   ],
   "id": "5b03ce135c8f9210",
   "outputs": [
    {
     "data": {
      "text/plain": [
       "   principal component 1  principal component 2   target\n",
       "0              -0.037425              -0.008566  class_0\n",
       "1              -0.061292              -0.006263  class_0\n",
       "2              -0.069781               0.000652  class_0\n",
       "3              -0.079461              -0.001433  class_0\n",
       "4               0.005421              -0.005151  class_0"
      ],
      "text/html": [
       "<div>\n",
       "<style scoped>\n",
       "    .dataframe tbody tr th:only-of-type {\n",
       "        vertical-align: middle;\n",
       "    }\n",
       "\n",
       "    .dataframe tbody tr th {\n",
       "        vertical-align: top;\n",
       "    }\n",
       "\n",
       "    .dataframe thead th {\n",
       "        text-align: right;\n",
       "    }\n",
       "</style>\n",
       "<table border=\"1\" class=\"dataframe\">\n",
       "  <thead>\n",
       "    <tr style=\"text-align: right;\">\n",
       "      <th></th>\n",
       "      <th>principal component 1</th>\n",
       "      <th>principal component 2</th>\n",
       "      <th>target</th>\n",
       "    </tr>\n",
       "  </thead>\n",
       "  <tbody>\n",
       "    <tr>\n",
       "      <th>0</th>\n",
       "      <td>-0.037425</td>\n",
       "      <td>-0.008566</td>\n",
       "      <td>class_0</td>\n",
       "    </tr>\n",
       "    <tr>\n",
       "      <th>1</th>\n",
       "      <td>-0.061292</td>\n",
       "      <td>-0.006263</td>\n",
       "      <td>class_0</td>\n",
       "    </tr>\n",
       "    <tr>\n",
       "      <th>2</th>\n",
       "      <td>-0.069781</td>\n",
       "      <td>0.000652</td>\n",
       "      <td>class_0</td>\n",
       "    </tr>\n",
       "    <tr>\n",
       "      <th>3</th>\n",
       "      <td>-0.079461</td>\n",
       "      <td>-0.001433</td>\n",
       "      <td>class_0</td>\n",
       "    </tr>\n",
       "    <tr>\n",
       "      <th>4</th>\n",
       "      <td>0.005421</td>\n",
       "      <td>-0.005151</td>\n",
       "      <td>class_0</td>\n",
       "    </tr>\n",
       "  </tbody>\n",
       "</table>\n",
       "</div>"
      ]
     },
     "execution_count": 5,
     "metadata": {},
     "output_type": "execute_result"
    }
   ],
   "execution_count": 5
  },
  {
   "metadata": {},
   "cell_type": "markdown",
   "source": "## Visualizing the PCA",
   "id": "1960caa33bdfde55"
  },
  {
   "metadata": {
    "ExecuteTime": {
     "end_time": "2024-09-22T12:06:48.501497Z",
     "start_time": "2024-09-22T12:06:48.313510Z"
    }
   },
   "cell_type": "code",
   "source": [
    "fig = plt.figure(figsize = (8,8))\n",
    "ax = fig.add_subplot(1,1,1)\n",
    "ax.set_xlabel('Component 1', fontsize = 15)\n",
    "ax.set_ylabel('Component 2', fontsize = 15)\n",
    "ax.set_title('2 Component PCA', fontsize = 20)\n",
    "\n",
    "\n",
    "targets = ['class_0', 'class_1', 'class_2']\n",
    "colors = ['r', 'g', 'b']\n",
    "for target, color in zip(targets,colors):\n",
    "    indicesToKeep = finalDf['target'] == target\n",
    "    ax.scatter(finalDf.loc[indicesToKeep, 'principal component 1']\n",
    "               , finalDf.loc[indicesToKeep, 'principal component 2']\n",
    "               , c = color\n",
    "               , s = 50)\n",
    "ax.legend(targets)\n",
    "ax.grid()\n",
    "plt.show()"
   ],
   "id": "6f5197b94a6782e3",
   "outputs": [
    {
     "data": {
      "text/plain": [
       "<Figure size 800x800 with 1 Axes>"
      ],
      "image/png": "[encoded data removed]"
     },
     "metadata": {},
     "output_type": "display_data"
    }
   ],
   "execution_count": 6
  },
  {
   "metadata": {},
   "cell_type": "markdown",
   "source": "THE RESULTS ARE MUCH WORSE THAN USING STANDARDIZATION!!!",
   "id": "86c14e753a1a69e2"
  },
  {
   "metadata": {},
   "cell_type": "markdown",
   "source": "## Explained variance",
   "id": "62909e5a999992c3"
  },
  {
   "metadata": {
    "ExecuteTime": {
     "end_time": "2024-09-22T12:07:41.809158Z",
     "start_time": "2024-09-22T12:07:41.802452Z"
    }
   },
   "cell_type": "code",
   "source": [
    "variances = pca.explained_variance_ratio_\n",
    "\n",
    "print(variances)\n",
    "\n",
    "variances[0] + variances[1]"
   ],
   "id": "f93f911f1063d78",
   "outputs": [
    {
     "name": "stdout",
     "output_type": "stream",
     "text": [
      "[0.97728831 0.01342272]\n"
     ]
    },
    {
     "data": {
      "text/plain": [
       "0.9907110283869752"
      ]
     },
     "execution_count": 7,
     "metadata": {},
     "output_type": "execute_result"
    }
   ],
   "execution_count": 7
  },
  {
   "metadata": {},
   "cell_type": "markdown",
   "source": "The explained variance is much better than using standardization.",
   "id": "f27555fce1d99bc2"
  }
 ],
 "metadata": {
  "kernelspec": {
   "display_name": "Python 3",
   "language": "python",
   "name": "python3"
  },
  "language_info": {
   "codemirror_mode": {
    "name": "ipython",
    "version": 2
   },
   "file_extension": ".py",
   "mimetype": "text/x-python",
   "name": "python",
   "nbconvert_exporter": "python",
   "pygments_lexer": "ipython2",
   "version": "2.7.6"
  }
 },
 "nbformat": 4,
 "nbformat_minor": 5
}
