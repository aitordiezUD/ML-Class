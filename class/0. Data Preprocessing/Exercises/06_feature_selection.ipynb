{
 "cells": [
  {
   "metadata": {},
   "cell_type": "markdown",
   "source": "# Feature Selection",
   "id": "845c37300aeb0d9f"
  },
  {
   "metadata": {},
   "cell_type": "markdown",
   "source": [
    "## **Exercise** \n",
    "\n",
    "Apply the Variance Threshold Feature Selection to any dataset included in scikit-learn."
   ],
   "id": "a69b6162403571b0"
  },
  {
   "metadata": {},
   "cell_type": "markdown",
   "source": [
    "## **Variance Threshold Feature Selection**\n",
    "\n",
    "A feature with a low variance means that it has a lot of similar values. Features with have mostly the same values are usually not very useful to discriminate the different clases. E.g. if almost everybody in this class has the same age, it would not be a good predictor of academic success."
   ],
   "id": "a1e7d266d1d6ca88"
  },
  {
   "metadata": {},
   "cell_type": "markdown",
   "source": "Make imports ",
   "id": "b73111968dd6dc68"
  },
  {
   "cell_type": "code",
   "id": "initial_id",
   "metadata": {
    "collapsed": true,
    "ExecuteTime": {
     "end_time": "2024-09-23T17:33:34.840465Z",
     "start_time": "2024-09-23T17:33:34.838043Z"
    }
   },
   "source": [
    "import numpy as np\n",
    "from sklearn.feature_selection import VarianceThreshold\n",
    "from sklearn.datasets import fetch_california_housing\n",
    "import pandas as pd\n",
    "from sklearn.preprocessing import StandardScaler"
   ],
   "outputs": [],
   "execution_count": 55
  },
  {
   "metadata": {},
   "cell_type": "markdown",
   "source": "Load the dataset",
   "id": "28a975cabe0bece6"
  },
  {
   "metadata": {
    "ExecuteTime": {
     "end_time": "2024-09-23T17:33:34.886159Z",
     "start_time": "2024-09-23T17:33:34.873492Z"
    }
   },
   "cell_type": "code",
   "source": [
    "housing = fetch_california_housing()\n",
    "df = pd.DataFrame(housing.data, columns=housing.feature_names)\n",
    "df.head()"
   ],
   "id": "48c64f53dcf6161f",
   "outputs": [
    {
     "data": {
      "text/plain": [
       "   MedInc  HouseAge  AveRooms  AveBedrms  Population  AveOccup  Latitude  \\\n",
       "0  8.3252      41.0  6.984127   1.023810       322.0  2.555556     37.88   \n",
       "1  8.3014      21.0  6.238137   0.971880      2401.0  2.109842     37.86   \n",
       "2  7.2574      52.0  8.288136   1.073446       496.0  2.802260     37.85   \n",
       "3  5.6431      52.0  5.817352   1.073059       558.0  2.547945     37.85   \n",
       "4  3.8462      52.0  6.281853   1.081081       565.0  2.181467     37.85   \n",
       "\n",
       "   Longitude  \n",
       "0    -122.23  \n",
       "1    -122.22  \n",
       "2    -122.24  \n",
       "3    -122.25  \n",
       "4    -122.25  "
      ],
      "text/html": [
       "<div>\n",
       "<style scoped>\n",
       "    .dataframe tbody tr th:only-of-type {\n",
       "        vertical-align: middle;\n",
       "    }\n",
       "\n",
       "    .dataframe tbody tr th {\n",
       "        vertical-align: top;\n",
       "    }\n",
       "\n",
       "    .dataframe thead th {\n",
       "        text-align: right;\n",
       "    }\n",
       "</style>\n",
       "<table border=\"1\" class=\"dataframe\">\n",
       "  <thead>\n",
       "    <tr style=\"text-align: right;\">\n",
       "      <th></th>\n",
       "      <th>MedInc</th>\n",
       "      <th>HouseAge</th>\n",
       "      <th>AveRooms</th>\n",
       "      <th>AveBedrms</th>\n",
       "      <th>Population</th>\n",
       "      <th>AveOccup</th>\n",
       "      <th>Latitude</th>\n",
       "      <th>Longitude</th>\n",
       "    </tr>\n",
       "  </thead>\n",
       "  <tbody>\n",
       "    <tr>\n",
       "      <th>0</th>\n",
       "      <td>8.3252</td>\n",
       "      <td>41.0</td>\n",
       "      <td>6.984127</td>\n",
       "      <td>1.023810</td>\n",
       "      <td>322.0</td>\n",
       "      <td>2.555556</td>\n",
       "      <td>37.88</td>\n",
       "      <td>-122.23</td>\n",
       "    </tr>\n",
       "    <tr>\n",
       "      <th>1</th>\n",
       "      <td>8.3014</td>\n",
       "      <td>21.0</td>\n",
       "      <td>6.238137</td>\n",
       "      <td>0.971880</td>\n",
       "      <td>2401.0</td>\n",
       "      <td>2.109842</td>\n",
       "      <td>37.86</td>\n",
       "      <td>-122.22</td>\n",
       "    </tr>\n",
       "    <tr>\n",
       "      <th>2</th>\n",
       "      <td>7.2574</td>\n",
       "      <td>52.0</td>\n",
       "      <td>8.288136</td>\n",
       "      <td>1.073446</td>\n",
       "      <td>496.0</td>\n",
       "      <td>2.802260</td>\n",
       "      <td>37.85</td>\n",
       "      <td>-122.24</td>\n",
       "    </tr>\n",
       "    <tr>\n",
       "      <th>3</th>\n",
       "      <td>5.6431</td>\n",
       "      <td>52.0</td>\n",
       "      <td>5.817352</td>\n",
       "      <td>1.073059</td>\n",
       "      <td>558.0</td>\n",
       "      <td>2.547945</td>\n",
       "      <td>37.85</td>\n",
       "      <td>-122.25</td>\n",
       "    </tr>\n",
       "    <tr>\n",
       "      <th>4</th>\n",
       "      <td>3.8462</td>\n",
       "      <td>52.0</td>\n",
       "      <td>6.281853</td>\n",
       "      <td>1.081081</td>\n",
       "      <td>565.0</td>\n",
       "      <td>2.181467</td>\n",
       "      <td>37.85</td>\n",
       "      <td>-122.25</td>\n",
       "    </tr>\n",
       "  </tbody>\n",
       "</table>\n",
       "</div>"
      ]
     },
     "execution_count": 56,
     "metadata": {},
     "output_type": "execute_result"
    }
   ],
   "execution_count": 56
  },
  {
   "metadata": {},
   "cell_type": "markdown",
   "source": "Shape of the dataset",
   "id": "70f7f44c2017810c"
  },
  {
   "metadata": {
    "ExecuteTime": {
     "end_time": "2024-09-23T17:33:34.923701Z",
     "start_time": "2024-09-23T17:33:34.920559Z"
    }
   },
   "cell_type": "code",
   "source": "df.shape",
   "id": "6e17f280f69cafc3",
   "outputs": [
    {
     "data": {
      "text/plain": [
       "(20640, 8)"
      ]
     },
     "execution_count": 57,
     "metadata": {},
     "output_type": "execute_result"
    }
   ],
   "execution_count": 57
  },
  {
   "metadata": {},
   "cell_type": "markdown",
   "source": "Variance of the features with no normalization",
   "id": "ae6365335ce8bda8"
  },
  {
   "metadata": {
    "ExecuteTime": {
     "end_time": "2024-09-23T17:33:34.968188Z",
     "start_time": "2024-09-23T17:33:34.963176Z"
    }
   },
   "cell_type": "code",
   "source": "df.var().round(2).sort_values(ascending=False)",
   "id": "cd75b645a2a85efc",
   "outputs": [
    {
     "data": {
      "text/plain": [
       "Population    1282470.46\n",
       "HouseAge          158.40\n",
       "AveOccup          107.87\n",
       "AveRooms            6.12\n",
       "Latitude            4.56\n",
       "Longitude           4.01\n",
       "MedInc              3.61\n",
       "AveBedrms           0.22\n",
       "dtype: float64"
      ]
     },
     "execution_count": 58,
     "metadata": {},
     "output_type": "execute_result"
    }
   ],
   "execution_count": 58
  },
  {
   "metadata": {},
   "cell_type": "markdown",
   "source": "I decided not to standarize, because when we standarize the data, the variance is 1.0 for all the features.",
   "id": "7240a310224b577b"
  },
  {
   "metadata": {
    "ExecuteTime": {
     "end_time": "2024-09-23T17:33:35.036181Z",
     "start_time": "2024-09-23T17:33:35.034177Z"
    }
   },
   "cell_type": "code",
   "source": [
    "#scaler = StandardScaler()\n",
    "#df = pd.DataFrame(scaler.fit_transform(df), columns = df.columns)\n",
    "#df.head()"
   ],
   "id": "17fa08e8f122845a",
   "outputs": [],
   "execution_count": 59
  },
  {
   "metadata": {},
   "cell_type": "markdown",
   "source": "Perform the Variance Threshold Feature Selection",
   "id": "8666a478079dd8cf"
  },
  {
   "metadata": {
    "ExecuteTime": {
     "end_time": "2024-09-23T17:33:35.088832Z",
     "start_time": "2024-09-23T17:33:35.083072Z"
    }
   },
   "cell_type": "code",
   "source": [
    "selector = VarianceThreshold(threshold = 1.00)\n",
    "selector.fit(df)\n",
    "df.columns[selector.get_support()]"
   ],
   "id": "8eeb22b1695412ef",
   "outputs": [
    {
     "data": {
      "text/plain": [
       "Index(['MedInc', 'HouseAge', 'AveRooms', 'Population', 'AveOccup', 'Latitude',\n",
       "       'Longitude'],\n",
       "      dtype='object')"
      ]
     },
     "execution_count": 60,
     "metadata": {},
     "output_type": "execute_result"
    }
   ],
   "execution_count": 60
  }
 ],
 "metadata": {
  "kernelspec": {
   "display_name": "Python 3",
   "language": "python",
   "name": "python3"
  },
  "language_info": {
   "codemirror_mode": {
    "name": "ipython",
    "version": 2
   },
   "file_extension": ".py",
   "mimetype": "text/x-python",
   "name": "python",
   "nbconvert_exporter": "python",
   "pygments_lexer": "ipython2",
   "version": "2.7.6"
  }
 },
 "nbformat": 4,
 "nbformat_minor": 5
}
