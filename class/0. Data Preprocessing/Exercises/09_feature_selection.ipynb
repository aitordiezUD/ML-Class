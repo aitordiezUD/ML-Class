{
 "cells": [
  {
   "metadata": {},
   "cell_type": "markdown",
   "source": "# Feature Selection",
   "id": "6b225fa8ae02407e"
  },
  {
   "metadata": {},
   "cell_type": "markdown",
   "source": [
    "## **Exercise** \n",
    "Apply SelectFromModel to any dataset included in scikit-learn. Use other importance metric that is not the default mean."
   ],
   "id": "a6ffb8bddfb7007e"
  },
  {
   "metadata": {},
   "cell_type": "markdown",
   "source": [
    "## **Feature Selection via SelectFromModel**\n",
    "\n",
    "This method is similar to the previous one, but the feature selection is done using some importance metric. It is often  coef_ or feature_importances_ but it could be any callable. By default, the threshold is the mean."
   ],
   "id": "f59bbbdd603ad4bd"
  },
  {
   "metadata": {},
   "cell_type": "markdown",
   "source": "Make imports",
   "id": "d626bfa0d5e6ae3a"
  },
  {
   "metadata": {
    "ExecuteTime": {
     "end_time": "2024-09-23T18:30:24.529406Z",
     "start_time": "2024-09-23T18:30:24.526279Z"
    }
   },
   "cell_type": "code",
   "source": [
    "from sklearn.datasets import fetch_california_housing\n",
    "import pandas as pd\n",
    "import numpy as np\n",
    "from sklearn.feature_selection import SelectFromModel\n",
    "from sklearn.linear_model import LinearRegression\n",
    "from sklearn.ensemble import RandomForestRegressor\n",
    "from xgboost import XGBRegressor\n",
    "\n"
   ],
   "id": "adf5affcb809ea7e",
   "outputs": [],
   "execution_count": 2
  },
  {
   "metadata": {},
   "cell_type": "markdown",
   "source": "Load the dataset",
   "id": "6164a6a13ce199ac"
  },
  {
   "cell_type": "code",
   "id": "initial_id",
   "metadata": {
    "collapsed": true,
    "ExecuteTime": {
     "end_time": "2024-09-23T18:30:26.111047Z",
     "start_time": "2024-09-23T18:30:26.100696Z"
    }
   },
   "source": [
    "housing = fetch_california_housing()\n",
    "X = pd.DataFrame(housing.data, columns=housing.feature_names)\n",
    "y = pd.Series(housing.target, name='target')"
   ],
   "outputs": [],
   "execution_count": 3
  },
  {
   "metadata": {},
   "cell_type": "markdown",
   "source": "First, let's use the Linear Regression model",
   "id": "5609d6e4b44f6b5f"
  },
  {
   "metadata": {
    "ExecuteTime": {
     "end_time": "2024-09-23T18:32:42.893800Z",
     "start_time": "2024-09-23T18:32:42.876819Z"
    }
   },
   "cell_type": "code",
   "source": [
    "sfm_selector = SelectFromModel(estimator=LinearRegression(), threshold='median')\n",
    "sfm_selector.fit(X, y)\n",
    "X.columns[sfm_selector.get_support()]"
   ],
   "id": "7d0c9f9a84f25051",
   "outputs": [
    {
     "data": {
      "text/plain": [
       "Index(['MedInc', 'AveBedrms', 'Latitude', 'Longitude'], dtype='object')"
      ]
     },
     "execution_count": 4,
     "metadata": {},
     "output_type": "execute_result"
    }
   ],
   "execution_count": 4
  },
  {
   "metadata": {},
   "cell_type": "markdown",
   "source": "Now, let's use the Random Forest Regressor",
   "id": "d33de91e508c5e71"
  },
  {
   "metadata": {
    "ExecuteTime": {
     "end_time": "2024-09-23T18:33:05.046491Z",
     "start_time": "2024-09-23T18:32:55.601352Z"
    }
   },
   "cell_type": "code",
   "source": [
    "sfm_selector = SelectFromModel(estimator=RandomForestRegressor(), threshold='median')\n",
    "sfm_selector.fit(X, y)\n",
    "X.columns[sfm_selector.get_support()]"
   ],
   "id": "fdf4a0f083265f8b",
   "outputs": [
    {
     "data": {
      "text/plain": [
       "Index(['MedInc', 'AveOccup', 'Latitude', 'Longitude'], dtype='object')"
      ]
     },
     "execution_count": 5,
     "metadata": {},
     "output_type": "execute_result"
    }
   ],
   "execution_count": 5
  },
  {
   "metadata": {},
   "cell_type": "markdown",
   "source": "Finally, let's use XGBRegressor",
   "id": "9885863be28374a1"
  },
  {
   "metadata": {
    "ExecuteTime": {
     "end_time": "2024-09-23T18:33:09.208150Z",
     "start_time": "2024-09-23T18:33:09.120777Z"
    }
   },
   "cell_type": "code",
   "source": [
    "sfm_selector = SelectFromModel(estimator=XGBRegressor(), threshold='median')\n",
    "sfm_selector.fit(X, y)\n",
    "X.columns[sfm_selector.get_support()]"
   ],
   "id": "bb1a7f9e63870d81",
   "outputs": [
    {
     "data": {
      "text/plain": [
       "Index(['MedInc', 'AveOccup', 'Latitude', 'Longitude'], dtype='object')"
      ]
     },
     "execution_count": 7,
     "metadata": {},
     "output_type": "execute_result"
    }
   ],
   "execution_count": 7
  }
 ],
 "metadata": {
  "kernelspec": {
   "display_name": "Python 3",
   "language": "python",
   "name": "python3"
  },
  "language_info": {
   "codemirror_mode": {
    "name": "ipython",
    "version": 2
   },
   "file_extension": ".py",
   "mimetype": "text/x-python",
   "name": "python",
   "nbconvert_exporter": "python",
   "pygments_lexer": "ipython2",
   "version": "2.7.6"
  }
 },
 "nbformat": 4,
 "nbformat_minor": 5
}
