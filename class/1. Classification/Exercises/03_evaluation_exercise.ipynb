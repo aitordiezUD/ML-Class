{
 "cells": [
  {
   "cell_type": "markdown",
   "metadata": {
    "id": "vePk-3LjPhpn"
   },
   "source": [
    "# Evaluating our models\n",
    "\n",
    "Now that we know how to use a decision tree, let's try and evaluate the performance of the different algorithms. To do so, we need a test set. Remember, we use the training set to create our model, and the test set to evaluate how well it works. None of the training examples should be used in the test set.\n",
    "\n",
    "We can use the trained model to predict the labels in the test set."
   ]
  },
  {
   "cell_type": "code",
   "execution_count": 8,
   "metadata": {
    "ExecuteTime": {
     "end_time": "2024-10-16T10:41:45.541706Z",
     "start_time": "2024-10-16T10:41:45.524674Z"
    },
    "colab": {
     "base_uri": "https://localhost:8080/"
    },
    "id": "veCtkc6qPMkP",
    "outputId": "de7dbd5f-328e-4752-e7c2-8f5d2a3c2351"
   },
   "outputs": [
    {
     "name": "stdout",
     "output_type": "stream",
     "text": [
      "Pred: [1 0 2 1 1 0 1 2 1 1 2 0 0 0 0 1 2 1 1 2 0 2 0 2 2 2 2 2 0 0]\n",
      "True: [1 0 2 1 1 0 1 2 1 1 2 0 0 0 0 1 2 1 1 2 0 2 0 2 2 2 2 2 0 0]\n"
     ]
    }
   ],
   "source": [
    "import numpy as np\n",
    "import matplotlib.pyplot as plt\n",
    "from sklearn.datasets import load_iris\n",
    "from sklearn.tree import DecisionTreeClassifier\n",
    "from sklearn.model_selection import train_test_split\n",
    "\n",
    "# Load the dataset\n",
    "iris = load_iris()\n",
    "X = iris.data\n",
    "y = iris.target\n",
    "\n",
    "# Create the train and test sets. Remember, X contains the features and y the labels\n",
    "X_train, X_test, y_train, y_test = train_test_split(X, y, test_size=0.2, random_state=42)\n",
    "\n",
    "# Train the model\n",
    "tree_classifier = DecisionTreeClassifier(random_state=42)\n",
    "tree_classifier.fit(X_train, y_train)\n",
    "\n",
    "# Make predictions on test data\n",
    "y_pred = tree_classifier.predict(X_test)\n",
    "\n",
    "#Visualize the predictions\n",
    "print ('Pred:', y_pred)\n",
    "\n",
    "#Visualize the true labels\n",
    "print ('True:',y_test)"
   ]
  },
  {
   "cell_type": "markdown",
   "metadata": {
    "id": "A0LneKWBQ56M"
   },
   "source": [
    "# Exercise\n",
    "\n",
    "For the CART decision tree and the Random Forests, do the following with the **Wine dataset**:\n",
    "\n",
    "1.   **Without using the libraries in sklearn**, calculate: the accuracy, error rate, precision, recall, sensitivity, specificity, G-mean, F-measure, F0.5 and F2 metrics. Which algorithm works better?\n",
    "2.   Calculate the same metrics **using the tools in the sklearn**. Calculate also the ROC AUC. Try different variations of averaging and see how the metrics change. Do the values change with different averaging methods?\n",
    "3. Modify the CART exercise (using the sklearn modules) to use:\n",
    "    - a stratified split\n",
    "    - cross-validation.\n",
    "\n"
   ]
  },
  {
   "cell_type": "markdown",
   "metadata": {},
   "source": [
    "Making imports"
   ]
  },
  {
   "cell_type": "code",
   "execution_count": 12,
   "metadata": {
    "ExecuteTime": {
     "end_time": "2024-10-16T10:45:26.037035Z",
     "start_time": "2024-10-16T10:45:25.959526Z"
    }
   },
   "outputs": [],
   "source": [
    "from sklearn.datasets import load_wine\n",
    "import pandas as pd\n",
    "from sklearn.ensemble import RandomForestClassifier"
   ]
  },
  {
   "cell_type": "markdown",
   "metadata": {},
   "source": [
    "Loading data"
   ]
  },
  {
   "cell_type": "code",
   "execution_count": 23,
   "metadata": {
    "ExecuteTime": {
     "end_time": "2024-10-16T10:51:31.085665Z",
     "start_time": "2024-10-16T10:51:31.063967Z"
    }
   },
   "outputs": [
    {
     "data": {
      "text/html": [
       "<div>\n",
       "<style scoped>\n",
       "    .dataframe tbody tr th:only-of-type {\n",
       "        vertical-align: middle;\n",
       "    }\n",
       "\n",
       "    .dataframe tbody tr th {\n",
       "        vertical-align: top;\n",
       "    }\n",
       "\n",
       "    .dataframe thead th {\n",
       "        text-align: right;\n",
       "    }\n",
       "</style>\n",
       "<table border=\"1\" class=\"dataframe\">\n",
       "  <thead>\n",
       "    <tr style=\"text-align: right;\">\n",
       "      <th></th>\n",
       "      <th>alcohol</th>\n",
       "      <th>malic_acid</th>\n",
       "      <th>ash</th>\n",
       "      <th>alcalinity_of_ash</th>\n",
       "      <th>magnesium</th>\n",
       "      <th>total_phenols</th>\n",
       "      <th>flavanoids</th>\n",
       "      <th>nonflavanoid_phenols</th>\n",
       "      <th>proanthocyanins</th>\n",
       "      <th>color_intensity</th>\n",
       "      <th>hue</th>\n",
       "      <th>od280/od315_of_diluted_wines</th>\n",
       "      <th>proline</th>\n",
       "      <th>target</th>\n",
       "    </tr>\n",
       "  </thead>\n",
       "  <tbody>\n",
       "    <tr>\n",
       "      <th>0</th>\n",
       "      <td>14.23</td>\n",
       "      <td>1.71</td>\n",
       "      <td>2.43</td>\n",
       "      <td>15.6</td>\n",
       "      <td>127.0</td>\n",
       "      <td>2.80</td>\n",
       "      <td>3.06</td>\n",
       "      <td>0.28</td>\n",
       "      <td>2.29</td>\n",
       "      <td>5.64</td>\n",
       "      <td>1.04</td>\n",
       "      <td>3.92</td>\n",
       "      <td>1065.0</td>\n",
       "      <td>0</td>\n",
       "    </tr>\n",
       "    <tr>\n",
       "      <th>1</th>\n",
       "      <td>13.20</td>\n",
       "      <td>1.78</td>\n",
       "      <td>2.14</td>\n",
       "      <td>11.2</td>\n",
       "      <td>100.0</td>\n",
       "      <td>2.65</td>\n",
       "      <td>2.76</td>\n",
       "      <td>0.26</td>\n",
       "      <td>1.28</td>\n",
       "      <td>4.38</td>\n",
       "      <td>1.05</td>\n",
       "      <td>3.40</td>\n",
       "      <td>1050.0</td>\n",
       "      <td>0</td>\n",
       "    </tr>\n",
       "    <tr>\n",
       "      <th>2</th>\n",
       "      <td>13.16</td>\n",
       "      <td>2.36</td>\n",
       "      <td>2.67</td>\n",
       "      <td>18.6</td>\n",
       "      <td>101.0</td>\n",
       "      <td>2.80</td>\n",
       "      <td>3.24</td>\n",
       "      <td>0.30</td>\n",
       "      <td>2.81</td>\n",
       "      <td>5.68</td>\n",
       "      <td>1.03</td>\n",
       "      <td>3.17</td>\n",
       "      <td>1185.0</td>\n",
       "      <td>0</td>\n",
       "    </tr>\n",
       "    <tr>\n",
       "      <th>3</th>\n",
       "      <td>14.37</td>\n",
       "      <td>1.95</td>\n",
       "      <td>2.50</td>\n",
       "      <td>16.8</td>\n",
       "      <td>113.0</td>\n",
       "      <td>3.85</td>\n",
       "      <td>3.49</td>\n",
       "      <td>0.24</td>\n",
       "      <td>2.18</td>\n",
       "      <td>7.80</td>\n",
       "      <td>0.86</td>\n",
       "      <td>3.45</td>\n",
       "      <td>1480.0</td>\n",
       "      <td>0</td>\n",
       "    </tr>\n",
       "    <tr>\n",
       "      <th>4</th>\n",
       "      <td>13.24</td>\n",
       "      <td>2.59</td>\n",
       "      <td>2.87</td>\n",
       "      <td>21.0</td>\n",
       "      <td>118.0</td>\n",
       "      <td>2.80</td>\n",
       "      <td>2.69</td>\n",
       "      <td>0.39</td>\n",
       "      <td>1.82</td>\n",
       "      <td>4.32</td>\n",
       "      <td>1.04</td>\n",
       "      <td>2.93</td>\n",
       "      <td>735.0</td>\n",
       "      <td>0</td>\n",
       "    </tr>\n",
       "  </tbody>\n",
       "</table>\n",
       "</div>"
      ],
      "text/plain": [
       "   alcohol  malic_acid   ash  alcalinity_of_ash  magnesium  total_phenols  \\\n",
       "0    14.23        1.71  2.43               15.6      127.0           2.80   \n",
       "1    13.20        1.78  2.14               11.2      100.0           2.65   \n",
       "2    13.16        2.36  2.67               18.6      101.0           2.80   \n",
       "3    14.37        1.95  2.50               16.8      113.0           3.85   \n",
       "4    13.24        2.59  2.87               21.0      118.0           2.80   \n",
       "\n",
       "   flavanoids  nonflavanoid_phenols  proanthocyanins  color_intensity   hue  \\\n",
       "0        3.06                  0.28             2.29             5.64  1.04   \n",
       "1        2.76                  0.26             1.28             4.38  1.05   \n",
       "2        3.24                  0.30             2.81             5.68  1.03   \n",
       "3        3.49                  0.24             2.18             7.80  0.86   \n",
       "4        2.69                  0.39             1.82             4.32  1.04   \n",
       "\n",
       "   od280/od315_of_diluted_wines  proline  target  \n",
       "0                          3.92   1065.0       0  \n",
       "1                          3.40   1050.0       0  \n",
       "2                          3.17   1185.0       0  \n",
       "3                          3.45   1480.0       0  \n",
       "4                          2.93    735.0       0  "
      ]
     },
     "execution_count": 23,
     "metadata": {},
     "output_type": "execute_result"
    }
   ],
   "source": [
    "wine = load_wine()\n",
    "df_wine = pd.DataFrame(data=wine.data, columns=wine.feature_names)\n",
    "df_wine['target'] = wine.target\n",
    "# df_wine['target'] = \"class_\" + df_wine['target']\n",
    "\n",
    "#Get the data\n",
    "X = df_wine.drop('target', axis=1)\n",
    "y = df_wine['target']\n",
    "\n",
    "df_wine.head()"
   ]
  },
  {
   "cell_type": "markdown",
   "metadata": {},
   "source": [
    "Splitting the data"
   ]
  },
  {
   "cell_type": "code",
   "execution_count": 24,
   "metadata": {
    "ExecuteTime": {
     "end_time": "2024-10-16T10:51:38.411782Z",
     "start_time": "2024-10-16T10:51:38.400772Z"
    }
   },
   "outputs": [],
   "source": [
    "X_test, X_train, y_test, y_train = train_test_split(X, y, test_size=0.2, random_state=42)"
   ]
  },
  {
   "cell_type": "markdown",
   "metadata": {},
   "source": [
    "Training the model"
   ]
  },
  {
   "cell_type": "code",
   "execution_count": 25,
   "metadata": {
    "ExecuteTime": {
     "end_time": "2024-10-16T10:51:41.083719Z",
     "start_time": "2024-10-16T10:51:40.986198Z"
    }
   },
   "outputs": [
    {
     "data": {
      "text/html": [
       "<style>#sk-container-id-2 {\n",
       "  /* Definition of color scheme common for light and dark mode */\n",
       "  --sklearn-color-text: black;\n",
       "  --sklearn-color-line: gray;\n",
       "  /* Definition of color scheme for unfitted estimators */\n",
       "  --sklearn-color-unfitted-level-0: #fff5e6;\n",
       "  --sklearn-color-unfitted-level-1: #f6e4d2;\n",
       "  --sklearn-color-unfitted-level-2: #ffe0b3;\n",
       "  --sklearn-color-unfitted-level-3: chocolate;\n",
       "  /* Definition of color scheme for fitted estimators */\n",
       "  --sklearn-color-fitted-level-0: #f0f8ff;\n",
       "  --sklearn-color-fitted-level-1: #d4ebff;\n",
       "  --sklearn-color-fitted-level-2: #b3dbfd;\n",
       "  --sklearn-color-fitted-level-3: cornflowerblue;\n",
       "\n",
       "  /* Specific color for light theme */\n",
       "  --sklearn-color-text-on-default-background: var(--sg-text-color, var(--theme-code-foreground, var(--jp-content-font-color1, black)));\n",
       "  --sklearn-color-background: var(--sg-background-color, var(--theme-background, var(--jp-layout-color0, white)));\n",
       "  --sklearn-color-border-box: var(--sg-text-color, var(--theme-code-foreground, var(--jp-content-font-color1, black)));\n",
       "  --sklearn-color-icon: #696969;\n",
       "\n",
       "  @media (prefers-color-scheme: dark) {\n",
       "    /* Redefinition of color scheme for dark theme */\n",
       "    --sklearn-color-text-on-default-background: var(--sg-text-color, var(--theme-code-foreground, var(--jp-content-font-color1, white)));\n",
       "    --sklearn-color-background: var(--sg-background-color, var(--theme-background, var(--jp-layout-color0, #111)));\n",
       "    --sklearn-color-border-box: var(--sg-text-color, var(--theme-code-foreground, var(--jp-content-font-color1, white)));\n",
       "    --sklearn-color-icon: #878787;\n",
       "  }\n",
       "}\n",
       "\n",
       "#sk-container-id-2 {\n",
       "  color: var(--sklearn-color-text);\n",
       "}\n",
       "\n",
       "#sk-container-id-2 pre {\n",
       "  padding: 0;\n",
       "}\n",
       "\n",
       "#sk-container-id-2 input.sk-hidden--visually {\n",
       "  border: 0;\n",
       "  clip: rect(1px 1px 1px 1px);\n",
       "  clip: rect(1px, 1px, 1px, 1px);\n",
       "  height: 1px;\n",
       "  margin: -1px;\n",
       "  overflow: hidden;\n",
       "  padding: 0;\n",
       "  position: absolute;\n",
       "  width: 1px;\n",
       "}\n",
       "\n",
       "#sk-container-id-2 div.sk-dashed-wrapped {\n",
       "  border: 1px dashed var(--sklearn-color-line);\n",
       "  margin: 0 0.4em 0.5em 0.4em;\n",
       "  box-sizing: border-box;\n",
       "  padding-bottom: 0.4em;\n",
       "  background-color: var(--sklearn-color-background);\n",
       "}\n",
       "\n",
       "#sk-container-id-2 div.sk-container {\n",
       "  /* jupyter's `normalize.less` sets `[hidden] { display: none; }`\n",
       "     but bootstrap.min.css set `[hidden] { display: none !important; }`\n",
       "     so we also need the `!important` here to be able to override the\n",
       "     default hidden behavior on the sphinx rendered scikit-learn.org.\n",
       "     See: https://github.com/scikit-learn/scikit-learn/issues/21755 */\n",
       "  display: inline-block !important;\n",
       "  position: relative;\n",
       "}\n",
       "\n",
       "#sk-container-id-2 div.sk-text-repr-fallback {\n",
       "  display: none;\n",
       "}\n",
       "\n",
       "div.sk-parallel-item,\n",
       "div.sk-serial,\n",
       "div.sk-item {\n",
       "  /* draw centered vertical line to link estimators */\n",
       "  background-image: linear-gradient(var(--sklearn-color-text-on-default-background), var(--sklearn-color-text-on-default-background));\n",
       "  background-size: 2px 100%;\n",
       "  background-repeat: no-repeat;\n",
       "  background-position: center center;\n",
       "}\n",
       "\n",
       "/* Parallel-specific style estimator block */\n",
       "\n",
       "#sk-container-id-2 div.sk-parallel-item::after {\n",
       "  content: \"\";\n",
       "  width: 100%;\n",
       "  border-bottom: 2px solid var(--sklearn-color-text-on-default-background);\n",
       "  flex-grow: 1;\n",
       "}\n",
       "\n",
       "#sk-container-id-2 div.sk-parallel {\n",
       "  display: flex;\n",
       "  align-items: stretch;\n",
       "  justify-content: center;\n",
       "  background-color: var(--sklearn-color-background);\n",
       "  position: relative;\n",
       "}\n",
       "\n",
       "#sk-container-id-2 div.sk-parallel-item {\n",
       "  display: flex;\n",
       "  flex-direction: column;\n",
       "}\n",
       "\n",
       "#sk-container-id-2 div.sk-parallel-item:first-child::after {\n",
       "  align-self: flex-end;\n",
       "  width: 50%;\n",
       "}\n",
       "\n",
       "#sk-container-id-2 div.sk-parallel-item:last-child::after {\n",
       "  align-self: flex-start;\n",
       "  width: 50%;\n",
       "}\n",
       "\n",
       "#sk-container-id-2 div.sk-parallel-item:only-child::after {\n",
       "  width: 0;\n",
       "}\n",
       "\n",
       "/* Serial-specific style estimator block */\n",
       "\n",
       "#sk-container-id-2 div.sk-serial {\n",
       "  display: flex;\n",
       "  flex-direction: column;\n",
       "  align-items: center;\n",
       "  background-color: var(--sklearn-color-background);\n",
       "  padding-right: 1em;\n",
       "  padding-left: 1em;\n",
       "}\n",
       "\n",
       "\n",
       "/* Toggleable style: style used for estimator/Pipeline/ColumnTransformer box that is\n",
       "clickable and can be expanded/collapsed.\n",
       "- Pipeline and ColumnTransformer use this feature and define the default style\n",
       "- Estimators will overwrite some part of the style using the `sk-estimator` class\n",
       "*/\n",
       "\n",
       "/* Pipeline and ColumnTransformer style (default) */\n",
       "\n",
       "#sk-container-id-2 div.sk-toggleable {\n",
       "  /* Default theme specific background. It is overwritten whether we have a\n",
       "  specific estimator or a Pipeline/ColumnTransformer */\n",
       "  background-color: var(--sklearn-color-background);\n",
       "}\n",
       "\n",
       "/* Toggleable label */\n",
       "#sk-container-id-2 label.sk-toggleable__label {\n",
       "  cursor: pointer;\n",
       "  display: block;\n",
       "  width: 100%;\n",
       "  margin-bottom: 0;\n",
       "  padding: 0.5em;\n",
       "  box-sizing: border-box;\n",
       "  text-align: center;\n",
       "}\n",
       "\n",
       "#sk-container-id-2 label.sk-toggleable__label-arrow:before {\n",
       "  /* Arrow on the left of the label */\n",
       "  content: \"▸\";\n",
       "  float: left;\n",
       "  margin-right: 0.25em;\n",
       "  color: var(--sklearn-color-icon);\n",
       "}\n",
       "\n",
       "#sk-container-id-2 label.sk-toggleable__label-arrow:hover:before {\n",
       "  color: var(--sklearn-color-text);\n",
       "}\n",
       "\n",
       "/* Toggleable content - dropdown */\n",
       "\n",
       "#sk-container-id-2 div.sk-toggleable__content {\n",
       "  max-height: 0;\n",
       "  max-width: 0;\n",
       "  overflow: hidden;\n",
       "  text-align: left;\n",
       "  /* unfitted */\n",
       "  background-color: var(--sklearn-color-unfitted-level-0);\n",
       "}\n",
       "\n",
       "#sk-container-id-2 div.sk-toggleable__content.fitted {\n",
       "  /* fitted */\n",
       "  background-color: var(--sklearn-color-fitted-level-0);\n",
       "}\n",
       "\n",
       "#sk-container-id-2 div.sk-toggleable__content pre {\n",
       "  margin: 0.2em;\n",
       "  border-radius: 0.25em;\n",
       "  color: var(--sklearn-color-text);\n",
       "  /* unfitted */\n",
       "  background-color: var(--sklearn-color-unfitted-level-0);\n",
       "}\n",
       "\n",
       "#sk-container-id-2 div.sk-toggleable__content.fitted pre {\n",
       "  /* unfitted */\n",
       "  background-color: var(--sklearn-color-fitted-level-0);\n",
       "}\n",
       "\n",
       "#sk-container-id-2 input.sk-toggleable__control:checked~div.sk-toggleable__content {\n",
       "  /* Expand drop-down */\n",
       "  max-height: 200px;\n",
       "  max-width: 100%;\n",
       "  overflow: auto;\n",
       "}\n",
       "\n",
       "#sk-container-id-2 input.sk-toggleable__control:checked~label.sk-toggleable__label-arrow:before {\n",
       "  content: \"▾\";\n",
       "}\n",
       "\n",
       "/* Pipeline/ColumnTransformer-specific style */\n",
       "\n",
       "#sk-container-id-2 div.sk-label input.sk-toggleable__control:checked~label.sk-toggleable__label {\n",
       "  color: var(--sklearn-color-text);\n",
       "  background-color: var(--sklearn-color-unfitted-level-2);\n",
       "}\n",
       "\n",
       "#sk-container-id-2 div.sk-label.fitted input.sk-toggleable__control:checked~label.sk-toggleable__label {\n",
       "  background-color: var(--sklearn-color-fitted-level-2);\n",
       "}\n",
       "\n",
       "/* Estimator-specific style */\n",
       "\n",
       "/* Colorize estimator box */\n",
       "#sk-container-id-2 div.sk-estimator input.sk-toggleable__control:checked~label.sk-toggleable__label {\n",
       "  /* unfitted */\n",
       "  background-color: var(--sklearn-color-unfitted-level-2);\n",
       "}\n",
       "\n",
       "#sk-container-id-2 div.sk-estimator.fitted input.sk-toggleable__control:checked~label.sk-toggleable__label {\n",
       "  /* fitted */\n",
       "  background-color: var(--sklearn-color-fitted-level-2);\n",
       "}\n",
       "\n",
       "#sk-container-id-2 div.sk-label label.sk-toggleable__label,\n",
       "#sk-container-id-2 div.sk-label label {\n",
       "  /* The background is the default theme color */\n",
       "  color: var(--sklearn-color-text-on-default-background);\n",
       "}\n",
       "\n",
       "/* On hover, darken the color of the background */\n",
       "#sk-container-id-2 div.sk-label:hover label.sk-toggleable__label {\n",
       "  color: var(--sklearn-color-text);\n",
       "  background-color: var(--sklearn-color-unfitted-level-2);\n",
       "}\n",
       "\n",
       "/* Label box, darken color on hover, fitted */\n",
       "#sk-container-id-2 div.sk-label.fitted:hover label.sk-toggleable__label.fitted {\n",
       "  color: var(--sklearn-color-text);\n",
       "  background-color: var(--sklearn-color-fitted-level-2);\n",
       "}\n",
       "\n",
       "/* Estimator label */\n",
       "\n",
       "#sk-container-id-2 div.sk-label label {\n",
       "  font-family: monospace;\n",
       "  font-weight: bold;\n",
       "  display: inline-block;\n",
       "  line-height: 1.2em;\n",
       "}\n",
       "\n",
       "#sk-container-id-2 div.sk-label-container {\n",
       "  text-align: center;\n",
       "}\n",
       "\n",
       "/* Estimator-specific */\n",
       "#sk-container-id-2 div.sk-estimator {\n",
       "  font-family: monospace;\n",
       "  border: 1px dotted var(--sklearn-color-border-box);\n",
       "  border-radius: 0.25em;\n",
       "  box-sizing: border-box;\n",
       "  margin-bottom: 0.5em;\n",
       "  /* unfitted */\n",
       "  background-color: var(--sklearn-color-unfitted-level-0);\n",
       "}\n",
       "\n",
       "#sk-container-id-2 div.sk-estimator.fitted {\n",
       "  /* fitted */\n",
       "  background-color: var(--sklearn-color-fitted-level-0);\n",
       "}\n",
       "\n",
       "/* on hover */\n",
       "#sk-container-id-2 div.sk-estimator:hover {\n",
       "  /* unfitted */\n",
       "  background-color: var(--sklearn-color-unfitted-level-2);\n",
       "}\n",
       "\n",
       "#sk-container-id-2 div.sk-estimator.fitted:hover {\n",
       "  /* fitted */\n",
       "  background-color: var(--sklearn-color-fitted-level-2);\n",
       "}\n",
       "\n",
       "/* Specification for estimator info (e.g. \"i\" and \"?\") */\n",
       "\n",
       "/* Common style for \"i\" and \"?\" */\n",
       "\n",
       ".sk-estimator-doc-link,\n",
       "a:link.sk-estimator-doc-link,\n",
       "a:visited.sk-estimator-doc-link {\n",
       "  float: right;\n",
       "  font-size: smaller;\n",
       "  line-height: 1em;\n",
       "  font-family: monospace;\n",
       "  background-color: var(--sklearn-color-background);\n",
       "  border-radius: 1em;\n",
       "  height: 1em;\n",
       "  width: 1em;\n",
       "  text-decoration: none !important;\n",
       "  margin-left: 1ex;\n",
       "  /* unfitted */\n",
       "  border: var(--sklearn-color-unfitted-level-1) 1pt solid;\n",
       "  color: var(--sklearn-color-unfitted-level-1);\n",
       "}\n",
       "\n",
       ".sk-estimator-doc-link.fitted,\n",
       "a:link.sk-estimator-doc-link.fitted,\n",
       "a:visited.sk-estimator-doc-link.fitted {\n",
       "  /* fitted */\n",
       "  border: var(--sklearn-color-fitted-level-1) 1pt solid;\n",
       "  color: var(--sklearn-color-fitted-level-1);\n",
       "}\n",
       "\n",
       "/* On hover */\n",
       "div.sk-estimator:hover .sk-estimator-doc-link:hover,\n",
       ".sk-estimator-doc-link:hover,\n",
       "div.sk-label-container:hover .sk-estimator-doc-link:hover,\n",
       ".sk-estimator-doc-link:hover {\n",
       "  /* unfitted */\n",
       "  background-color: var(--sklearn-color-unfitted-level-3);\n",
       "  color: var(--sklearn-color-background);\n",
       "  text-decoration: none;\n",
       "}\n",
       "\n",
       "div.sk-estimator.fitted:hover .sk-estimator-doc-link.fitted:hover,\n",
       ".sk-estimator-doc-link.fitted:hover,\n",
       "div.sk-label-container:hover .sk-estimator-doc-link.fitted:hover,\n",
       ".sk-estimator-doc-link.fitted:hover {\n",
       "  /* fitted */\n",
       "  background-color: var(--sklearn-color-fitted-level-3);\n",
       "  color: var(--sklearn-color-background);\n",
       "  text-decoration: none;\n",
       "}\n",
       "\n",
       "/* Span, style for the box shown on hovering the info icon */\n",
       ".sk-estimator-doc-link span {\n",
       "  display: none;\n",
       "  z-index: 9999;\n",
       "  position: relative;\n",
       "  font-weight: normal;\n",
       "  right: .2ex;\n",
       "  padding: .5ex;\n",
       "  margin: .5ex;\n",
       "  width: min-content;\n",
       "  min-width: 20ex;\n",
       "  max-width: 50ex;\n",
       "  color: var(--sklearn-color-text);\n",
       "  box-shadow: 2pt 2pt 4pt #999;\n",
       "  /* unfitted */\n",
       "  background: var(--sklearn-color-unfitted-level-0);\n",
       "  border: .5pt solid var(--sklearn-color-unfitted-level-3);\n",
       "}\n",
       "\n",
       ".sk-estimator-doc-link.fitted span {\n",
       "  /* fitted */\n",
       "  background: var(--sklearn-color-fitted-level-0);\n",
       "  border: var(--sklearn-color-fitted-level-3);\n",
       "}\n",
       "\n",
       ".sk-estimator-doc-link:hover span {\n",
       "  display: block;\n",
       "}\n",
       "\n",
       "/* \"?\"-specific style due to the `<a>` HTML tag */\n",
       "\n",
       "#sk-container-id-2 a.estimator_doc_link {\n",
       "  float: right;\n",
       "  font-size: 1rem;\n",
       "  line-height: 1em;\n",
       "  font-family: monospace;\n",
       "  background-color: var(--sklearn-color-background);\n",
       "  border-radius: 1rem;\n",
       "  height: 1rem;\n",
       "  width: 1rem;\n",
       "  text-decoration: none;\n",
       "  /* unfitted */\n",
       "  color: var(--sklearn-color-unfitted-level-1);\n",
       "  border: var(--sklearn-color-unfitted-level-1) 1pt solid;\n",
       "}\n",
       "\n",
       "#sk-container-id-2 a.estimator_doc_link.fitted {\n",
       "  /* fitted */\n",
       "  border: var(--sklearn-color-fitted-level-1) 1pt solid;\n",
       "  color: var(--sklearn-color-fitted-level-1);\n",
       "}\n",
       "\n",
       "/* On hover */\n",
       "#sk-container-id-2 a.estimator_doc_link:hover {\n",
       "  /* unfitted */\n",
       "  background-color: var(--sklearn-color-unfitted-level-3);\n",
       "  color: var(--sklearn-color-background);\n",
       "  text-decoration: none;\n",
       "}\n",
       "\n",
       "#sk-container-id-2 a.estimator_doc_link.fitted:hover {\n",
       "  /* fitted */\n",
       "  background-color: var(--sklearn-color-fitted-level-3);\n",
       "}\n",
       "</style><div id=\"sk-container-id-2\" class=\"sk-top-container\"><div class=\"sk-text-repr-fallback\"><pre>RandomForestClassifier(random_state=42)</pre><b>In a Jupyter environment, please rerun this cell to show the HTML representation or trust the notebook. <br />On GitHub, the HTML representation is unable to render, please try loading this page with nbviewer.org.</b></div><div class=\"sk-container\" hidden><div class=\"sk-item\"><div class=\"sk-estimator fitted sk-toggleable\"><input class=\"sk-toggleable__control sk-hidden--visually\" id=\"sk-estimator-id-2\" type=\"checkbox\" checked><label for=\"sk-estimator-id-2\" class=\"sk-toggleable__label fitted sk-toggleable__label-arrow fitted\">&nbsp;&nbsp;RandomForestClassifier<a class=\"sk-estimator-doc-link fitted\" rel=\"noreferrer\" target=\"_blank\" href=\"https://scikit-learn.org/1.5/modules/generated/sklearn.ensemble.RandomForestClassifier.html\">?<span>Documentation for RandomForestClassifier</span></a><span class=\"sk-estimator-doc-link fitted\">i<span>Fitted</span></span></label><div class=\"sk-toggleable__content fitted\"><pre>RandomForestClassifier(random_state=42)</pre></div> </div></div></div></div>"
      ],
      "text/plain": [
       "RandomForestClassifier(random_state=42)"
      ]
     },
     "execution_count": 25,
     "metadata": {},
     "output_type": "execute_result"
    }
   ],
   "source": [
    "# CART\n",
    "tree_classifier = DecisionTreeClassifier(random_state=42)\n",
    "tree_classifier.fit(X_train, y_train)\n",
    "# Random Forests\n",
    "rf_classifier = RandomForestClassifier(random_state=42)\n",
    "rf_classifier.fit(X_train, y_train)"
   ]
  },
  {
   "cell_type": "markdown",
   "metadata": {},
   "source": [
    "Making predictions"
   ]
  },
  {
   "cell_type": "code",
   "execution_count": 26,
   "metadata": {
    "ExecuteTime": {
     "end_time": "2024-10-16T10:51:43.442403Z",
     "start_time": "2024-10-16T10:51:43.424030Z"
    }
   },
   "outputs": [],
   "source": [
    "# CART\n",
    "y_pred_tree = tree_classifier.predict(X_test)\n",
    "# Random Forests\n",
    "y_pred_rf = rf_classifier.predict(X_test)"
   ]
  },
  {
   "cell_type": "markdown",
   "metadata": {},
   "source": [
    "Algorithm evaluation without sklearn:"
   ]
  },
  {
   "cell_type": "markdown",
   "metadata": {},
   "source": [
    "First we are going to create the confusion matrix for the CART algorithm"
   ]
  },
  {
   "cell_type": "code",
   "execution_count": 49,
   "metadata": {
    "ExecuteTime": {
     "end_time": "2024-10-16T11:17:18.793958Z",
     "start_time": "2024-10-16T11:17:18.782164Z"
    }
   },
   "outputs": [
    {
     "name": "stdout",
     "output_type": "stream",
     "text": [
      "True Positives: {0: 38, 1: 45, 2: 30}\n",
      "False Positives: {0: 7, 1: 14, 2: 8}\n",
      "True Negatives: {0: 90, 1: 71, 2: 94}\n",
      "False Negatives: {0: 7, 1: 12, 2: 10}\n"
     ]
    }
   ],
   "source": [
    "num_classes = len(np.unique(y_test))\n",
    "\n",
    "# Initialize the confusion matrix\n",
    "conf_matrix = np.zeros((num_classes, num_classes), dtype=int)\n",
    "\n",
    "# Populate the confusion matrix\n",
    "for true_label, pred_label in zip(y_test, y_pred_tree):\n",
    "    conf_matrix[true_label, pred_label] += 1\n",
    "\n",
    "TP_tree = {}\n",
    "FP_tree = {}\n",
    "TN_tree = {}\n",
    "FN_tree = {}\n",
    "\n",
    "for i in range(num_classes):\n",
    "    TP_tree[i] = conf_matrix[i, i]\n",
    "    FP_tree[i] = conf_matrix[:, i].sum() - TP_tree[i]\n",
    "    FN_tree[i] = conf_matrix[i, :].sum() - TP_tree[i]\n",
    "    TN_tree[i] = conf_matrix.sum() - (TP_tree[i] + FP_tree[i] + FN_tree[i])\n",
    "\n",
    "print(\"True Positives:\", TP_tree)\n",
    "print(\"False Positives:\", FP_tree)\n",
    "print(\"True Negatives:\", TN_tree)\n",
    "print(\"False Negatives:\", FN_tree)\n"
   ]
  },
  {
   "cell_type": "code",
   "execution_count": 45,
   "metadata": {
    "ExecuteTime": {
     "end_time": "2024-10-16T11:15:02.184445Z",
     "start_time": "2024-10-16T11:15:02.177614Z"
    }
   },
   "outputs": [
    {
     "name": "stdout",
     "output_type": "stream",
     "text": [
      "True Positives: {0: 44, 1: 55, 2: 40}\n",
      "False Positives: {0: 2, 1: 1, 2: 0}\n",
      "True Negatives: {0: 95, 1: 84, 2: 102}\n",
      "False Negatives: {0: 1, 1: 2, 2: 0}\n"
     ]
    }
   ],
   "source": [
    "num_classes = len(np.unique(y_test))\n",
    "\n",
    "# Initialize the confusion matrix\n",
    "conf_matrix = np.zeros((num_classes, num_classes), dtype=int)\n",
    "\n",
    "# Populate the confusion matrix\n",
    "for true_label, pred_label in zip(y_test, y_pred_rf):\n",
    "    conf_matrix[true_label, pred_label] += 1\n",
    "\n",
    "TP_rf = {}\n",
    "FP_rf = {}\n",
    "TN_rf = {}\n",
    "FN_rf = {}\n",
    "\n",
    "for i in range(num_classes):\n",
    "    TP_rf[i] = conf_matrix[i, i]\n",
    "    FP_rf[i] = conf_matrix[:, i].sum() - TP_rf[i]\n",
    "    FN_rf[i] = conf_matrix[i, :].sum() - TP_rf[i]\n",
    "    TN_rf[i] = conf_matrix.sum() - (TP_rf[i] + FP_rf[i] + FN_rf[i])\n",
    "\n",
    "print(\"True Positives:\", TP_rf)\n",
    "print(\"False Positives:\", FP_rf)\n",
    "print(\"True Negatives:\", TN_rf)\n",
    "print(\"False Negatives:\", FN_rf)"
   ]
  },
  {
   "cell_type": "markdown",
   "metadata": {},
   "source": [
    "We are going to use macro averaging for the metrics"
   ]
  },
  {
   "cell_type": "markdown",
   "metadata": {},
   "source": [
    "Accuracy"
   ]
  },
  {
   "cell_type": "code",
   "execution_count": 62,
   "metadata": {
    "ExecuteTime": {
     "end_time": "2024-10-16T11:25:40.971928Z",
     "start_time": "2024-10-16T11:25:40.958106Z"
    }
   },
   "outputs": [
    {
     "name": "stdout",
     "output_type": "stream",
     "text": [
      "Accuracy Macro Random Forest: 0.9859154929577465\n",
      "Accuracy Macro CART: 0.863849765258216\n"
     ]
    }
   ],
   "source": [
    "accuracy_per_class_rf = {}\n",
    "\n",
    "for i in range(num_classes):\n",
    "    accuracy_per_class_rf[i] = (TP_rf[i] + TN_rf[i]) / (TP_rf[i] + TN_rf[i] + FP_rf[i] + FN_rf[i])\n",
    "\n",
    "accuracy_macro_rf = sum(accuracy_per_class_rf.values()) / num_classes\n",
    "\n",
    "print(\"Accuracy Macro Random Forest:\", accuracy_macro_rf)\n",
    "\n",
    "accuracy_per_class_tree = {}\n",
    "\n",
    "for i in range(num_classes):\n",
    "    accuracy_per_class_tree[i] = (TP_tree[i] + TN_tree[i]) / (TP_tree[i] + TN_tree[i] + FP_tree[i] + FN_tree[i])\n",
    "    \n",
    "accuracy_macro_tree = sum(accuracy_per_class_tree.values()) / num_classes\n",
    "\n",
    "print(\"Accuracy Macro CART:\", accuracy_macro_tree)"
   ]
  },
  {
   "cell_type": "markdown",
   "metadata": {},
   "source": [
    "Error rate"
   ]
  },
  {
   "cell_type": "code",
   "execution_count": 63,
   "metadata": {
    "ExecuteTime": {
     "end_time": "2024-10-16T11:27:19.552914Z",
     "start_time": "2024-10-16T11:27:19.544566Z"
    }
   },
   "outputs": [
    {
     "name": "stdout",
     "output_type": "stream",
     "text": [
      "Error rate Random Forest: 0.014084507042253502\n",
      "Error rate CART: 0.136150234741784\n"
     ]
    }
   ],
   "source": [
    "error_rate_rf = 1 - accuracy_macro_rf\n",
    "print(\"Error rate Random Forest:\", error_rate_rf)\n",
    "\n",
    "error_rate_tree = 1 - accuracy_macro_tree\n",
    "print(\"Error rate CART:\", error_rate_tree)"
   ]
  },
  {
   "cell_type": "markdown",
   "metadata": {},
   "source": [
    "Sensitivity"
   ]
  },
  {
   "cell_type": "code",
   "execution_count": 64,
   "metadata": {
    "ExecuteTime": {
     "end_time": "2024-10-16T11:29:49.430770Z",
     "start_time": "2024-10-16T11:29:49.418885Z"
    }
   },
   "outputs": [
    {
     "name": "stdout",
     "output_type": "stream",
     "text": [
      "Sensitivity Macro Random Forest: 0.980896686159844\n",
      "Sensitivity Macro CART: 0.7946393762183236\n"
     ]
    }
   ],
   "source": [
    "sensitivity_per_class_rf = {}\n",
    "sensitivity_per_class_tree = {}\n",
    "\n",
    "# Calculate sensitivity for Random Forest\n",
    "for i in range(num_classes):\n",
    "    sensitivity_per_class_rf[i] = TP_rf[i] / (TP_rf[i] + FN_rf[i])\n",
    "\n",
    "sensitivity_macro_rf = sum(sensitivity_per_class_rf.values()) / num_classes\n",
    "print(\"Sensitivity Macro Random Forest:\", sensitivity_macro_rf)\n",
    "\n",
    "# Calculate sensitivity for CART\n",
    "for i in range(num_classes):\n",
    "    sensitivity_per_class_tree[i] = TP_tree[i] / (TP_tree[i] + FN_tree[i])\n",
    "\n",
    "sensitivity_macro_tree = sum(sensitivity_per_class_tree.values()) / num_classes\n",
    "print(\"Sensitivity Macro CART:\", sensitivity_macro_tree)"
   ]
  },
  {
   "cell_type": "markdown",
   "metadata": {},
   "source": [
    "Specifity"
   ]
  },
  {
   "cell_type": "code",
   "execution_count": 65,
   "metadata": {
    "ExecuteTime": {
     "end_time": "2024-10-16T11:30:31.797726Z",
     "start_time": "2024-10-16T11:30:31.787035Z"
    }
   },
   "outputs": [
    {
     "name": "stdout",
     "output_type": "stream",
     "text": [
      "Specificity Macro Random Forest: 0.9892055791388721\n",
      "Specificity Macro CART: 0.8948992655481436\n"
     ]
    }
   ],
   "source": [
    "specificity_per_class_rf = {}\n",
    "specificity_per_class_tree = {}\n",
    "\n",
    "# Calculate specificity for Random Forest\n",
    "for i in range(num_classes):\n",
    "    specificity_per_class_rf[i] = TN_rf[i] / (TN_rf[i] + FP_rf[i])\n",
    "\n",
    "specificity_macro_rf = sum(specificity_per_class_rf.values()) / num_classes\n",
    "print(\"Specificity Macro Random Forest:\", specificity_macro_rf)\n",
    "\n",
    "# Calculate specificity for CART\n",
    "for i in range(num_classes):\n",
    "    specificity_per_class_tree[i] = TN_tree[i] / (TN_tree[i] + FP_tree[i])\n",
    "\n",
    "specificity_macro_tree = sum(specificity_per_class_tree.values()) / num_classes\n",
    "print(\"Specificity Macro CART:\", specificity_macro_tree)"
   ]
  },
  {
   "cell_type": "markdown",
   "metadata": {},
   "source": [
    "Precision"
   ]
  },
  {
   "cell_type": "code",
   "execution_count": 66,
   "metadata": {
    "ExecuteTime": {
     "end_time": "2024-10-16T11:31:01.691289Z",
     "start_time": "2024-10-16T11:31:01.678498Z"
    }
   },
   "outputs": [
    {
     "name": "stdout",
     "output_type": "stream",
     "text": [
      "Precision Macro Random Forest: 0.9795548654244306\n",
      "Precision Macro CART: 0.7988766643539167\n"
     ]
    }
   ],
   "source": [
    "precision_per_class_rf = {}\n",
    "precision_per_class_tree = {}\n",
    "\n",
    "# Calculate precision for Random Forest\n",
    "for i in range(num_classes):\n",
    "    precision_per_class_rf[i] = TP_rf[i] / (TP_rf[i] + FP_rf[i])\n",
    "\n",
    "precision_macro_rf = sum(precision_per_class_rf.values()) / num_classes\n",
    "print(\"Precision Macro Random Forest:\", precision_macro_rf)\n",
    "\n",
    "# Calculate precision for CART\n",
    "for i in range(num_classes):\n",
    "    precision_per_class_tree[i] = TP_tree[i] / (TP_tree[i] + FP_tree[i])\n",
    "\n",
    "precision_macro_tree = sum(precision_per_class_tree.values()) / num_classes\n",
    "print(\"Precision Macro CART:\", precision_macro_tree)"
   ]
  },
  {
   "cell_type": "markdown",
   "metadata": {},
   "source": [
    "G-mean"
   ]
  },
  {
   "cell_type": "code",
   "execution_count": 67,
   "metadata": {
    "ExecuteTime": {
     "end_time": "2024-10-16T11:32:36.827314Z",
     "start_time": "2024-10-16T11:32:36.815973Z"
    }
   },
   "outputs": [
    {
     "name": "stdout",
     "output_type": "stream",
     "text": [
      "G-mean Macro Random Forest: 0.9850278135025802\n",
      "G-mean Macro CART: 0.8428630969078913\n"
     ]
    }
   ],
   "source": [
    "gmean_per_class_rf = {}\n",
    "gmean_per_class_tree = {}\n",
    "\n",
    "# Calculate G-mean for Random Forest\n",
    "for i in range(num_classes):\n",
    "    sensitivity_rf = TP_rf[i] / (TP_rf[i] + FN_rf[i])\n",
    "    specificity_rf = TN_rf[i] / (TN_rf[i] + FP_rf[i])\n",
    "    gmean_per_class_rf[i] = (sensitivity_rf * specificity_rf) ** 0.5\n",
    "\n",
    "gmean_macro_rf = sum(gmean_per_class_rf.values()) / num_classes\n",
    "print(\"G-mean Macro Random Forest:\", gmean_macro_rf)\n",
    "\n",
    "# Calculate G-mean for CART\n",
    "for i in range(num_classes):\n",
    "    sensitivity_tree = TP_tree[i] / (TP_tree[i] + FN_tree[i])\n",
    "    specificity_tree = TN_tree[i] / (TN_tree[i] + FP_tree[i])\n",
    "    gmean_per_class_tree[i] = (sensitivity_tree * specificity_tree) ** 0.5\n",
    "\n",
    "gmean_macro_tree = sum(gmean_per_class_tree.values()) / num_classes\n",
    "print(\"G-mean Macro CART:\", gmean_macro_tree)"
   ]
  },
  {
   "cell_type": "markdown",
   "metadata": {},
   "source": [
    "F-measure"
   ]
  },
  {
   "cell_type": "code",
   "execution_count": 68,
   "metadata": {
    "ExecuteTime": {
     "end_time": "2024-10-16T11:33:09.891517Z",
     "start_time": "2024-10-16T11:33:09.880103Z"
    }
   },
   "outputs": [
    {
     "name": "stdout",
     "output_type": "stream",
     "text": [
      "F-measure Macro Random Forest: 2.0\n",
      "F-measure Macro CART: 2.0\n"
     ]
    }
   ],
   "source": [
    "fmeasure_per_class_rf = {}\n",
    "fmeasure_per_class_tree = {}\n",
    "\n",
    "# Calculate F-measure for Random Forest\n",
    "for i in range(num_classes):\n",
    "    precision_rf = TP_rf[i] / (TP_rf[i] + FP_rf[i])\n",
    "    recall_rf = TP_rf[i] / (TP_rf[i] + FN_rf[i])\n",
    "    fmeasure_per_class_rf[i] = 2 * (precision_rf * recall_rf) / (precision_rf * recall_rf)\n",
    "\n",
    "fmeasure_macro_rf = sum(fmeasure_per_class_rf.values()) / num_classes\n",
    "print(\"F-measure Macro Random Forest:\", fmeasure_macro_rf)\n",
    "\n",
    "# Calculate F-measure for CART\n",
    "for i in range(num_classes):\n",
    "    precision_tree = TP_tree[i] / (TP_tree[i] + FP_tree[i])\n",
    "    recall_tree = TP_tree[i] / (TP_tree[i] + FN_tree[i])\n",
    "    fmeasure_per_class_tree[i] = 2 * (precision_tree * recall_tree) / (precision_tree * recall_tree)\n",
    "\n",
    "fmeasure_macro_tree = sum(fmeasure_per_class_tree.values()) / num_classes\n",
    "print(\"F-measure Macro CART:\", fmeasure_macro_tree)"
   ]
  },
  {
   "cell_type": "markdown",
   "metadata": {},
   "source": [
    "F0.5"
   ]
  },
  {
   "cell_type": "code",
   "execution_count": 69,
   "metadata": {
    "ExecuteTime": {
     "end_time": "2024-10-16T11:33:36.779651Z",
     "start_time": "2024-10-16T11:33:36.769403Z"
    }
   },
   "outputs": [
    {
     "name": "stdout",
     "output_type": "stream",
     "text": [
      "F0.5 Macro Random Forest: 0.9797821255963574\n",
      "F0.5 Macro CART: 0.7978708443938819\n"
     ]
    }
   ],
   "source": [
    "f0_5_per_class_rf = {}\n",
    "f0_5_per_class_tree = {}\n",
    "\n",
    "# Calculate F0.5 score for Random Forest\n",
    "for i in range(num_classes):\n",
    "    precision_rf = TP_rf[i] / (TP_rf[i] + FP_rf[i])\n",
    "    recall_rf = TP_rf[i] / (TP_rf[i] + FN_rf[i])\n",
    "    f0_5_per_class_rf[i] = (1 + 0.5**2) * (precision_rf * recall_rf) / (0.5**2 * precision_rf + recall_rf)\n",
    "\n",
    "f0_5_macro_rf = sum(f0_5_per_class_rf.values()) / num_classes\n",
    "print(\"F0.5 Macro Random Forest:\", f0_5_macro_rf)\n",
    "\n",
    "# Calculate F0.5 score for CART\n",
    "for i in range(num_classes):\n",
    "    precision_tree = TP_tree[i] / (TP_tree[i] + FP_tree[i])\n",
    "    recall_tree = TP_tree[i] / (TP_tree[i] + FN_tree[i])\n",
    "    f0_5_per_class_tree[i] = (1 + 0.5**2) * (precision_tree * recall_tree) / (0.5**2 * precision_tree + recall_tree)\n",
    "\n",
    "f0_5_macro_tree = sum(f0_5_per_class_tree.values()) / num_classes\n",
    "print(\"F0.5 Macro CART:\", f0_5_macro_tree)"
   ]
  },
  {
   "cell_type": "markdown",
   "metadata": {},
   "source": [
    "F2"
   ]
  },
  {
   "cell_type": "code",
   "execution_count": 70,
   "metadata": {
    "ExecuteTime": {
     "end_time": "2024-10-16T11:34:26.717238Z",
     "start_time": "2024-10-16T11:34:26.710361Z"
    }
   },
   "outputs": [
    {
     "name": "stdout",
     "output_type": "stream",
     "text": [
      "F2 Macro Random Forest: 0.9805870621961859\n",
      "F2 Macro CART: 0.7953307758185807\n"
     ]
    }
   ],
   "source": [
    "f2_per_class_rf = {}\n",
    "f2_per_class_tree = {}\n",
    "\n",
    "# Calculate F2 score for Random Forest\n",
    "for i in range(num_classes):\n",
    "    precision_rf = TP_rf[i] / (TP_rf[i] + FP_rf[i])\n",
    "    recall_rf = TP_rf[i] / (TP_rf[i] + FN_rf[i])\n",
    "    f2_per_class_rf[i] = (1 + 2**2) * (precision_rf * recall_rf) / (2**2 * precision_rf + recall_rf)\n",
    "\n",
    "f2_macro_rf = sum(f2_per_class_rf.values()) / num_classes\n",
    "print(\"F2 Macro Random Forest:\", f2_macro_rf)\n",
    "\n",
    "# Calculate F2 score for CART\n",
    "for i in range(num_classes):\n",
    "    precision_tree = TP_tree[i] / (TP_tree[i] + FP_tree[i])\n",
    "    recall_tree = TP_tree[i] / (TP_tree[i] + FN_tree[i])\n",
    "    f2_per_class_tree[i] = (1 + 2**2) * (precision_tree * recall_tree) / (2**2 * precision_tree + recall_tree)\n",
    "\n",
    "f2_macro_tree = sum(f2_per_class_tree.values()) / num_classes\n",
    "print(\"F2 Macro CART:\", f2_macro_tree)"
   ]
  },
  {
   "cell_type": "markdown",
   "metadata": {},
   "source": [
    "We can observe that the Random Forest algorithm has better performance than the CART algorithm. Now we are going to use the sklearn tools to calculate the metrics."
   ]
  },
  {
   "cell_type": "code",
   "execution_count": 72,
   "metadata": {
    "ExecuteTime": {
     "end_time": "2024-10-16T11:40:16.509592Z",
     "start_time": "2024-10-16T11:40:16.487024Z"
    }
   },
   "outputs": [
    {
     "name": "stdout",
     "output_type": "stream",
     "text": [
      "Random Forest Metrics:\n",
      "Accuracy: 0.9788732394366197\n",
      "Error Rate: 0.021126760563380254\n",
      "Precision: 0.9795548654244306\n",
      "Recall (Sensitivity): 0.980896686159844\n",
      "Specificity: 0.9777777777777777\n",
      "G-mean: 0.9793359903643686\n",
      "F-measure (F1): 0.980161431488865\n",
      "\n",
      "CART Metrics:\n",
      "Accuracy: 0.795774647887324\n",
      "Error Rate: 0.204225352112676\n",
      "Precision: 0.7988766643539167\n",
      "Recall (Sensitivity): 0.7946393762183236\n",
      "Specificity: 0.8444444444444444\n",
      "G-mean: 0.8191634797672331\n",
      "F-measure (F1): 0.7965124275469103\n"
     ]
    }
   ],
   "source": [
    "from sklearn.metrics import accuracy_score, precision_score, recall_score, f1_score, roc_auc_score, confusion_matrix\n",
    "from sklearn.metrics import make_scorer, roc_curve, auc\n",
    "\n",
    "# Calculate metrics using sklearn\n",
    "# Accuracy\n",
    "accuracy_rf = accuracy_score(y_test, y_pred_rf)\n",
    "accuracy_tree = accuracy_score(y_test, y_pred_tree)\n",
    "\n",
    "# Error rate\n",
    "error_rate_rf = 1 - accuracy_rf\n",
    "error_rate_tree = 1 - accuracy_tree\n",
    "\n",
    "# Precision\n",
    "precision_rf = precision_score(y_test, y_pred_rf, average='macro')\n",
    "precision_tree = precision_score(y_test, y_pred_tree, average='macro')\n",
    "\n",
    "# Recall (Sensitivity)\n",
    "recall_rf = recall_score(y_test, y_pred_rf, average='macro')\n",
    "recall_tree = recall_score(y_test, y_pred_tree, average='macro')\n",
    "\n",
    "# Specificity\n",
    "def specificity_score(y_true, y_pred):\n",
    "    cm = confusion_matrix(y_true, y_pred)\n",
    "    tn = cm[0, 0]\n",
    "    fp = cm[0, 1]\n",
    "    specificity = tn / (tn + fp)\n",
    "    return specificity\n",
    "\n",
    "specificity_rf = specificity_score(y_test, y_pred_rf)\n",
    "specificity_tree = specificity_score(y_test, y_pred_tree)\n",
    "\n",
    "# G-mean\n",
    "def gmean_score(y_true, y_pred):\n",
    "    sensitivity = recall_score(y_true, y_pred, average='macro')\n",
    "    specificity = specificity_score(y_true, y_pred)\n",
    "    return (sensitivity * specificity) ** 0.5\n",
    "\n",
    "gmean_rf = gmean_score(y_test, y_pred_rf)\n",
    "gmean_tree = gmean_score(y_test, y_pred_tree)\n",
    "\n",
    "# F-measure (F1-score)\n",
    "fmeasure_rf = f1_score(y_test, y_pred_rf, average='macro')\n",
    "fmeasure_tree = f1_score(y_test, y_pred_tree, average='macro')\n",
    "\n",
    "\n",
    "\n",
    "# Print the results\n",
    "print(\"Random Forest Metrics:\")\n",
    "print(f\"Accuracy: {accuracy_rf}\")\n",
    "print(f\"Error Rate: {error_rate_rf}\")\n",
    "print(f\"Precision: {precision_rf}\")\n",
    "print(f\"Recall (Sensitivity): {recall_rf}\")\n",
    "print(f\"Specificity: {specificity_rf}\")\n",
    "print(f\"G-mean: {gmean_rf}\")\n",
    "print(f\"F-measure (F1): {fmeasure_rf}\")\n",
    "\n",
    "print(\"\\nCART Metrics:\")\n",
    "print(f\"Accuracy: {accuracy_tree}\")\n",
    "print(f\"Error Rate: {error_rate_tree}\")\n",
    "print(f\"Precision: {precision_tree}\")\n",
    "print(f\"Recall (Sensitivity): {recall_tree}\")\n",
    "print(f\"Specificity: {specificity_tree}\")\n",
    "print(f\"G-mean: {gmean_tree}\")\n",
    "print(f\"F-measure (F1): {fmeasure_tree}\")\n"
   ]
  }
 ],
 "metadata": {
  "colab": {
   "provenance": []
  },
  "kernelspec": {
   "display_name": "Python 3 (ipykernel)",
   "language": "python",
   "name": "python3"
  },
  "language_info": {
   "codemirror_mode": {
    "name": "ipython",
    "version": 3
   },
   "file_extension": ".py",
   "mimetype": "text/x-python",
   "name": "python",
   "nbconvert_exporter": "python",
   "pygments_lexer": "ipython3",
   "version": "3.12.2"
  }
 },
 "nbformat": 4,
 "nbformat_minor": 4
}
