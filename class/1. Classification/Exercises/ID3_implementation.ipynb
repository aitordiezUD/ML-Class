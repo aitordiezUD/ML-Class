{
 "cells": [
  {
   "metadata": {},
   "cell_type": "markdown",
   "source": "# ID3 Algorithm Implementation from scratch",
   "id": "17539d43ceb18225"
  },
  {
   "metadata": {},
   "cell_type": "markdown",
   "source": "Importing Libraries",
   "id": "bdae7f539188394"
  },
  {
   "cell_type": "code",
   "id": "initial_id",
   "metadata": {
    "collapsed": true,
    "ExecuteTime": {
     "end_time": "2024-10-06T20:07:21.161351Z",
     "start_time": "2024-10-06T20:07:20.579682Z"
    }
   },
   "source": [
    "import os \n",
    "import pandas as pd\n",
    "import numpy as np\n",
    "import math\n",
    "from PIL.ImagePalette import negative\n",
    "\n",
    "os.chdir(\"C:/Users/aitor/PycharmProjects/ML-Class\")"
   ],
   "outputs": [],
   "execution_count": 1
  },
  {
   "metadata": {},
   "cell_type": "markdown",
   "source": "Loading the dataset for testing the algorithm later",
   "id": "5f4b7e2754d21b29"
  },
  {
   "metadata": {
    "ExecuteTime": {
     "end_time": "2024-10-06T20:07:22.048588Z",
     "start_time": "2024-10-06T20:07:22.032256Z"
    }
   },
   "cell_type": "code",
   "source": [
    "df = pd.read_csv(\"data/03_a_tree_dataset.csv\",names=[\"Outlook\",\"Humidity\",\"Wind\",\"PlayTennis\"])\n",
    "df.head()"
   ],
   "id": "8538ec95a2aea3df",
   "outputs": [
    {
     "data": {
      "text/plain": [
       "  Outlook Humidity    Wind PlayTennis\n",
       "0    rain   normal  strong        yes\n",
       "1    rain   normal  strong        yes\n",
       "2    rain   normal  strong        yes\n",
       "3    rain     high    weak        yes\n",
       "4    rain   normal  strong         no"
      ],
      "text/html": [
       "<div>\n",
       "<style scoped>\n",
       "    .dataframe tbody tr th:only-of-type {\n",
       "        vertical-align: middle;\n",
       "    }\n",
       "\n",
       "    .dataframe tbody tr th {\n",
       "        vertical-align: top;\n",
       "    }\n",
       "\n",
       "    .dataframe thead th {\n",
       "        text-align: right;\n",
       "    }\n",
       "</style>\n",
       "<table border=\"1\" class=\"dataframe\">\n",
       "  <thead>\n",
       "    <tr style=\"text-align: right;\">\n",
       "      <th></th>\n",
       "      <th>Outlook</th>\n",
       "      <th>Humidity</th>\n",
       "      <th>Wind</th>\n",
       "      <th>PlayTennis</th>\n",
       "    </tr>\n",
       "  </thead>\n",
       "  <tbody>\n",
       "    <tr>\n",
       "      <th>0</th>\n",
       "      <td>rain</td>\n",
       "      <td>normal</td>\n",
       "      <td>strong</td>\n",
       "      <td>yes</td>\n",
       "    </tr>\n",
       "    <tr>\n",
       "      <th>1</th>\n",
       "      <td>rain</td>\n",
       "      <td>normal</td>\n",
       "      <td>strong</td>\n",
       "      <td>yes</td>\n",
       "    </tr>\n",
       "    <tr>\n",
       "      <th>2</th>\n",
       "      <td>rain</td>\n",
       "      <td>normal</td>\n",
       "      <td>strong</td>\n",
       "      <td>yes</td>\n",
       "    </tr>\n",
       "    <tr>\n",
       "      <th>3</th>\n",
       "      <td>rain</td>\n",
       "      <td>high</td>\n",
       "      <td>weak</td>\n",
       "      <td>yes</td>\n",
       "    </tr>\n",
       "    <tr>\n",
       "      <th>4</th>\n",
       "      <td>rain</td>\n",
       "      <td>normal</td>\n",
       "      <td>strong</td>\n",
       "      <td>no</td>\n",
       "    </tr>\n",
       "  </tbody>\n",
       "</table>\n",
       "</div>"
      ]
     },
     "execution_count": 2,
     "metadata": {},
     "output_type": "execute_result"
    }
   ],
   "execution_count": 2
  },
  {
   "metadata": {},
   "cell_type": "markdown",
   "source": "Creation of Node class",
   "id": "82450e31c31fd116"
  },
  {
   "metadata": {
    "ExecuteTime": {
     "end_time": "2024-10-06T20:07:23.581498Z",
     "start_time": "2024-10-06T20:07:23.576938Z"
    }
   },
   "cell_type": "code",
   "source": [
    "class DecisionTreeNode:\n",
    "    def __init__(self, attribute=None, label=None):\n",
    "        self.attribute = attribute  # The attribute by which the node splits\n",
    "        self.label = label          # If it's a leaf node, it holds the class label (e.g., 'Yes' or 'No')\n",
    "        self.children = {}          # Dictionary to store branches (children), where keys are the attribute values\n",
    "        \n",
    "    def add_child(self, value, subtree):\n",
    "        self.children[value] = subtree  # Adds a child node to the current node\n"
   ],
   "id": "a3248f06a9a5b37b",
   "outputs": [],
   "execution_count": 3
  },
  {
   "metadata": {},
   "cell_type": "markdown",
   "source": "Creation of Tree class",
   "id": "d942aeae6b192d61"
  },
  {
   "metadata": {
    "ExecuteTime": {
     "end_time": "2024-10-06T20:07:26.017338Z",
     "start_time": "2024-10-06T20:07:26.014390Z"
    }
   },
   "cell_type": "code",
   "source": [
    "class DecisionTree:\n",
    "    def __init__(self, root=None):\n",
    "        self.root = root  # The root node of the decision tree (an instance of DecisionTreeNode)\n"
   ],
   "id": "fded81eb1ff7c0e3",
   "outputs": [],
   "execution_count": 4
  },
  {
   "metadata": {},
   "cell_type": "markdown",
   "source": "We need to implement a counter for counting the positive and negative examples",
   "id": "629995d42dbe0d06"
  },
  {
   "metadata": {
    "ExecuteTime": {
     "end_time": "2024-10-06T20:07:29.465857Z",
     "start_time": "2024-10-06T20:07:29.462345Z"
    }
   },
   "cell_type": "code",
   "source": [
    "def count_labels(labels, positive_label, negative_label):\n",
    "    positive_count = 0\n",
    "    negative_count = 0\n",
    "    for label in labels:\n",
    "        if label == positive_label:\n",
    "            positive_count += 1\n",
    "        elif label == negative_label:\n",
    "            negative_count += 1\n",
    "    label_counts = {positive_label: positive_count, \n",
    "                    negative_label: negative_count}\n",
    "    return label_counts"
   ],
   "id": "5483f187055a45e2",
   "outputs": [],
   "execution_count": 5
  },
  {
   "metadata": {},
   "cell_type": "markdown",
   "source": "We need the function to calculate the entropy",
   "id": "f671d9f6b2515531"
  },
  {
   "metadata": {
    "ExecuteTime": {
     "end_time": "2024-10-06T20:07:32.101405Z",
     "start_time": "2024-10-06T20:07:32.098166Z"
    }
   },
   "cell_type": "code",
   "source": [
    "def calculate_entropy(self, x_ids):\n",
    "    \"\"\" Calculates the entropy.\n",
    "    Parameters\n",
    "    __________\n",
    "    :param x_ids: list, List containing the instances ID's\n",
    "    __________\n",
    "    :return: entropy: float, Entropy.\n",
    "    \"\"\"\n",
    "    # sorted labels by instance id\n",
    "    labels = [self.labels[i] for i in x_ids]\n",
    "    # count number of instances of each category\n",
    "    label_count = [labels.count(x) for x in self.labelCategories]\n",
    "    # calculate the entropy for each category and sum them\n",
    "    entropy = sum([-count / len(x_ids) * math.log(count / len(x_ids), 2)\n",
    "                   if count else 0\n",
    "                   for count in label_count\n",
    "                  ])\n",
    "        \n",
    "    return entropy"
   ],
   "id": "2f1b6733dd428252",
   "outputs": [],
   "execution_count": 6
  },
  {
   "metadata": {},
   "cell_type": "markdown",
   "source": "Let's try the entropy function",
   "id": "d23434e77668d40e"
  },
  {
   "metadata": {
    "ExecuteTime": {
     "end_time": "2024-10-06T20:07:39.474241Z",
     "start_time": "2024-10-06T20:07:39.470330Z"
    }
   },
   "cell_type": "code",
   "source": "calculate_entropy(df, target_attribute=\"Wind\", positive_label=\"weak\", negative_label=\"strong\")",
   "id": "5a8a3acc6cc743f6",
   "outputs": [
    {
     "name": "stdout",
     "output_type": "stream",
     "text": [
      "{'weak': 504, 'strong': 496}\n",
      "0.504\n",
      "0.496\n"
     ]
    },
    {
     "data": {
      "text/plain": [
       "0.999953833266239"
      ]
     },
     "execution_count": 7,
     "metadata": {},
     "output_type": "execute_result"
    }
   ],
   "execution_count": 7
  },
  {
   "metadata": {},
   "cell_type": "markdown",
   "source": "We need a function to calculate the information gain",
   "id": "2cd8ae3f753b0393"
  },
  {
   "metadata": {},
   "cell_type": "code",
   "outputs": [],
   "execution_count": null,
   "source": "def information_gain()",
   "id": "6a99318957625f7e"
  },
  {
   "metadata": {},
   "cell_type": "markdown",
   "source": "Let's start with the construction of the ID3_classifier",
   "id": "d23d3e715b3d9722"
  },
  {
   "metadata": {
    "ExecuteTime": {
     "end_time": "2024-10-02T11:00:26.511931Z",
     "start_time": "2024-10-02T11:00:26.502107Z"
    }
   },
   "cell_type": "code",
   "source": [
    "def ID3_classifier(examples, target_attribute, attributes):\n",
    "    # Step 1: Create a root node for the tree\n",
    "    root = DecisionTreeNode()  # Create a new node for the root\n",
    "\n",
    "    # Step 2: If all examples have the same label, return a leaf node with that label\n",
    "    labels = [example[target_attribute] for example in examples]\n",
    "    \n",
    "    if labels.count(labels[0]) == len(labels):  # All labels are the same\n",
    "        root.label = labels[0]  # Set the label of the root node\n",
    "        return DecisionTree(root=root)\n",
    "    \n",
    "    # Step 3: If there are no more attributes to split, return a leaf node with the most common label\n",
    "    if not attributes:\n",
    "        common_label = max(set(labels), key=labels.count)  # Most common label\n",
    "        root.label = common_label  # Set the label of the root node\n",
    "        return DecisionTree(root=root)\n",
    "\n",
    "    # Step 4: More steps to be added here later, such as choosing the best attribute to split on\n",
    "    # and creating child nodes\n",
    "\n",
    "    # Placeholder for now\n",
    "    root.attribute = \"To be defined\"\n",
    "    return DecisionTree(root=root)"
   ],
   "id": "b8b6637bdb72f13b",
   "outputs": [],
   "execution_count": 18
  },
  {
   "metadata": {},
   "cell_type": "markdown",
   "source": "Let's test the ID3_classifier function",
   "id": "c17c71596d114336"
  },
  {
   "metadata": {},
   "cell_type": "code",
   "outputs": [],
   "execution_count": null,
   "source": "ID3_classifier(df.values, target_attribute=df.columns[-1], attributes=df.columns[:-1])",
   "id": "cf161287a92639b"
  }
 ],
 "metadata": {
  "kernelspec": {
   "display_name": "Python 3",
   "language": "python",
   "name": "python3"
  },
  "language_info": {
   "codemirror_mode": {
    "name": "ipython",
    "version": 2
   },
   "file_extension": ".py",
   "mimetype": "text/x-python",
   "name": "python",
   "nbconvert_exporter": "python",
   "pygments_lexer": "ipython2",
   "version": "2.7.6"
  }
 },
 "nbformat": 4,
 "nbformat_minor": 5
}
